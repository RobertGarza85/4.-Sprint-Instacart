{
 "cells": [
  {
   "cell_type": "markdown",
   "id": "17f27cd4",
   "metadata": {},
   "source": [
    "# ¡Hola Roberto! 😊\n",
    "\n",
    "Mi nombre es **Alejandro Castellanos** y hoy tengo el placer de ser el revisor de tu proyecto.\n",
    "\n",
    "Voy a revisar todo tu código con detalle, buscando tanto los puntos fuertes como aquellos en los que podrías mejorar. Te dejaré comentarios a lo largo del notebook, destacando lo que has hecho bien y sugiriendo ajustes donde sea necesario. Si encuentro algún error, no te preocupes, te lo haré saber de forma clara y te daré información útil para que puedas corregirlo en la próxima. Si en algún punto tienes comentarios, siéntete libre de dejarlos también.\n",
    "\n",
    "\n",
    "Encontrarás mis comentarios específicos dentro de cajas verdes, amarillas o rojas, es muy importante que no muevas, modifiques o borres mis comentarios, con el fin de tener un seguimiento adecuado de tu proceso.:\n",
    "\n",
    "\n",
    "<div class=\"alert alert-block alert-success\">\n",
    "<b>Comentario del revisor</b> <a class=“tocSkip”></a>\n",
    "Si todo está perfecto.\n",
    "</div>\n",
    "\n",
    "<div class=\"alert alert-block alert-warning\">\n",
    "<b>Comentario del revisor</b> <a class=“tocSkip”></a>\n",
    "Si tu código está bien pero se puede mejorar o hay algún detalle que le hace falta.\n",
    "</div>\n",
    "\n",
    "<div class=\"alert alert-block alert-danger\">\n",
    "<b>Comentario del revisor</b> <a class=“tocSkip”></a>\n",
    "Si de pronto hace falta algo o existe algún problema con tu código o conclusiones.\n",
    "</div>\n",
    "\n",
    "Puedes responderme de esta forma:\n",
    "<div class=\"alert alert-block alert-info\">\n",
    "<b>Respuesta del estudiante</b> <a class=“tocSkip”></a>\n",
    "</div>\n",
    "\n",
    "A continuación te dejaré un comentario general con mi valoración del proyecto. **¡Mi objetivo es que sigas aprendiendo y mejorando con cada paso!**"
   ]
  },
  {
   "cell_type": "markdown",
   "id": "6a5458e8",
   "metadata": {},
   "source": [
    "----"
   ]
  },
  {
   "cell_type": "code",
   "execution_count": null,
   "id": "72062803",
   "metadata": {},
   "outputs": [],
   "source": []
  },
  {
   "cell_type": "markdown",
   "id": "a2b40965",
   "metadata": {},
   "source": [
    "---"
   ]
  },
  {
   "cell_type": "markdown",
   "id": "3Xg_RQfnafXz",
   "metadata": {
    "id": "3Xg_RQfnafXz"
   },
   "source": [
    "# ¡Llena ese carrito!"
   ]
  },
  {
   "cell_type": "markdown",
   "id": "mhIvmmkW414q",
   "metadata": {
    "id": "mhIvmmkW414q"
   },
   "source": [
    "# Introducción\n",
    "\n",
    "Instacart es una plataforma de entregas de comestibles donde la clientela puede registrar un pedido y hacer que se lo entreguen, similar a Uber Eats y Door Dash.\n",
    "El conjunto de datos que te hemos proporcionado tiene modificaciones del original. Redujimos el tamaño del conjunto para que tus cálculos se hicieran más rápido e introdujimos valores ausentes y duplicados. Tuvimos cuidado de conservar las distribuciones de los datos originales cuando hicimos los cambios.\n",
    "\n",
    "Debes completar tres pasos. Para cada uno de ellos, escribe una breve introducción que refleje con claridad cómo pretendes resolver cada paso, y escribe párrafos explicatorios que justifiquen tus decisiones al tiempo que avanzas en tu solución.  También escribe una conclusión que resuma tus hallazgos y elecciones.\n"
   ]
  },
  {
   "cell_type": "markdown",
   "id": "3MbyzpOQZ5Or",
   "metadata": {
    "id": "3MbyzpOQZ5Or"
   },
   "source": [
    "## Diccionario de datos\n",
    "\n",
    "Hay cinco tablas en el conjunto de datos, y tendrás que usarlas todas para hacer el preprocesamiento de datos y el análisis exploratorio de datos. A continuación se muestra un diccionario de datos que enumera las columnas de cada tabla y describe los datos que contienen.\n",
    "\n",
    "- `instacart_orders.csv`: cada fila corresponde a un pedido en la aplicación Instacart.\n",
    "    - `'order_id'`: número de ID que identifica de manera única cada pedido.\n",
    "    - `'user_id'`: número de ID que identifica de manera única la cuenta de cada cliente.\n",
    "    - `'order_number'`: el número de veces que este cliente ha hecho un pedido.\n",
    "    - `'order_dow'`: día de la semana en que se hizo el pedido (0 si es domingo).\n",
    "    - `'order_hour_of_day'`: hora del día en que se hizo el pedido.\n",
    "    - `'days_since_prior_order'`: número de días transcurridos desde que este cliente hizo su pedido anterior.\n",
    "- `products.csv`: cada fila corresponde a un producto único que pueden comprar los clientes.\n",
    "    - `'product_id'`: número ID que identifica de manera única cada producto.\n",
    "    - `'product_name'`: nombre del producto.\n",
    "    - `'aisle_id'`: número ID que identifica de manera única cada categoría de pasillo de víveres.\n",
    "    - `'department_id'`: número ID que identifica de manera única cada departamento de víveres.\n",
    "- `order_products.csv`: cada fila corresponde a un artículo pedido en un pedido.\n",
    "    - `'order_id'`: número de ID que identifica de manera única cada pedido.\n",
    "    - `'product_id'`: número ID que identifica de manera única cada producto.\n",
    "    - `'add_to_cart_order'`: el orden secuencial en el que se añadió cada artículo en el carrito.\n",
    "    - `'reordered'`: 0 si el cliente nunca ha pedido este producto antes, 1 si lo ha pedido.\n",
    "- `aisles.csv`\n",
    "    - `'aisle_id'`: número ID que identifica de manera única cada categoría de pasillo de víveres.\n",
    "    - `'aisle'`: nombre del pasillo.\n",
    "- `departments.csv`\n",
    "    - `'department_id'`: número ID que identifica de manera única cada departamento de víveres.\n",
    "    - `'department'`: nombre del departamento."
   ]
  },
  {
   "cell_type": "markdown",
   "id": "n3Ha_cNSZ8lK",
   "metadata": {
    "id": "n3Ha_cNSZ8lK"
   },
   "source": [
    "# Paso 1. Descripción de los datos\n",
    "\n",
    "Lee los archivos de datos (`/datasets/instacart_orders.csv`, `/datasets/products.csv`, `/datasets/aisles.csv`, `/datasets/departments.csv` y `/datasets/order_products.csv`) con `pd.read_csv()` usando los parámetros adecuados para leer los datos correctamente. Verifica la información para cada DataFrame creado.\n"
   ]
  },
  {
   "cell_type": "markdown",
   "id": "OmlQPLlyaAfR",
   "metadata": {
    "id": "OmlQPLlyaAfR"
   },
   "source": [
    "## Plan de solución\n",
    "\n",
    "Escribe aquí tu plan de solución para el Paso 1. Descripción de los datos."
   ]
  },
  {
   "cell_type": "code",
   "execution_count": 8,
   "id": "fbf1adab",
   "metadata": {
    "id": "fbf1adab"
   },
   "outputs": [],
   "source": [
    "import pandas as pd # importar librerías\n",
    "from matplotlib import pyplot as plt"
   ]
  },
  {
   "cell_type": "code",
   "execution_count": 9,
   "id": "ad36396d",
   "metadata": {
    "id": "ad36396d"
   },
   "outputs": [],
   "source": [
    "instacart_orders = pd.read_csv('/datasets/instacart_orders.csv',sep=';')\n",
    "products = pd.read_csv('/datasets/products.csv',sep=';')\n",
    "order_products = pd.read_csv('/datasets/order_products.csv',sep=';')\n",
    "aisles = pd.read_csv('/datasets/aisles.csv',sep=';')\n",
    "departments = pd.read_csv('/datasets/departments.csv',sep=';')\n",
    "\n",
    "# leer conjuntos de datos en los DataFrames"
   ]
  },
  {
   "cell_type": "code",
   "execution_count": 15,
   "id": "ad6a1efa",
   "metadata": {
    "id": "ad6a1efa"
   },
   "outputs": [
    {
     "name": "stdout",
     "output_type": "stream",
     "text": [
      "instacart_order DataFrame:\n",
      "   order_id  user_id  order_number  order_dow  order_hour_of_day  \\\n",
      "0   1515936   183418            11          6                 13   \n",
      "1   1690866   163593             5          5                 12   \n",
      "2   1454967    39980             4          5                 19   \n",
      "3   1768857    82516            56          0                 20   \n",
      "4   3007858   196724             2          4                 12   \n",
      "\n",
      "   days_since_prior_order  \n",
      "0                    30.0  \n",
      "1                     9.0  \n",
      "2                     2.0  \n",
      "3                    10.0  \n",
      "4                    17.0  \n",
      "<class 'pandas.core.frame.DataFrame'>\n",
      "RangeIndex: 478967 entries, 0 to 478966\n",
      "Data columns (total 6 columns):\n",
      " #   Column                  Non-Null Count   Dtype  \n",
      "---  ------                  --------------   -----  \n",
      " 0   order_id                478967 non-null  int64  \n",
      " 1   user_id                 478967 non-null  int64  \n",
      " 2   order_number            478967 non-null  int64  \n",
      " 3   order_dow               478967 non-null  int64  \n",
      " 4   order_hour_of_day       478967 non-null  int64  \n",
      " 5   days_since_prior_order  450148 non-null  float64\n",
      "dtypes: float64(1), int64(5)\n",
      "memory usage: 21.9 MB\n",
      "None\n",
      "           order_id        user_id   order_number      order_dow  \\\n",
      "count  4.789670e+05  478967.000000  478967.000000  478967.000000   \n",
      "mean   1.709947e+06  102966.537475      17.157808       2.775058   \n",
      "std    9.869480e+05   59525.328991      17.704688       2.045869   \n",
      "min    4.000000e+00       2.000000       1.000000       0.000000   \n",
      "25%    8.564685e+05   51414.000000       5.000000       1.000000   \n",
      "50%    1.709522e+06  102633.000000      11.000000       3.000000   \n",
      "75%    2.562990e+06  154419.000000      23.000000       5.000000   \n",
      "max    3.421079e+06  206209.000000     100.000000       6.000000   \n",
      "\n",
      "       order_hour_of_day  days_since_prior_order  \n",
      "count      478967.000000           450148.000000  \n",
      "mean           13.446676               11.101751  \n",
      "std             4.224986                9.189975  \n",
      "min             0.000000                0.000000  \n",
      "25%            10.000000                4.000000  \n",
      "50%            13.000000                7.000000  \n",
      "75%            16.000000               15.000000  \n",
      "max            23.000000               30.000000  \n"
     ]
    }
   ],
   "source": [
    "print('instacart_order DataFrame:')\n",
    "print(instacart_orders.head())\n",
    "print(instacart_orders.info())\n",
    "print(instacart_orders.describe())# mostrar información del DataFrame"
   ]
  },
  {
   "cell_type": "code",
   "execution_count": 16,
   "id": "5130e05e",
   "metadata": {
    "id": "5130e05e"
   },
   "outputs": [
    {
     "name": "stdout",
     "output_type": "stream",
     "text": [
      "products DataFrame:\n",
      "   product_id                                       product_name  aisle_id  \\\n",
      "0           1                         Chocolate Sandwich Cookies        61   \n",
      "1           2                                   All-Seasons Salt       104   \n",
      "2           3               Robust Golden Unsweetened Oolong Tea        94   \n",
      "3           4  Smart Ones Classic Favorites Mini Rigatoni Wit...        38   \n",
      "4           5                          Green Chile Anytime Sauce         5   \n",
      "\n",
      "   department_id  \n",
      "0             19  \n",
      "1             13  \n",
      "2              7  \n",
      "3              1  \n",
      "4             13  \n",
      "<class 'pandas.core.frame.DataFrame'>\n",
      "RangeIndex: 49694 entries, 0 to 49693\n",
      "Data columns (total 4 columns):\n",
      " #   Column         Non-Null Count  Dtype \n",
      "---  ------         --------------  ----- \n",
      " 0   product_id     49694 non-null  int64 \n",
      " 1   product_name   48436 non-null  object\n",
      " 2   aisle_id       49694 non-null  int64 \n",
      " 3   department_id  49694 non-null  int64 \n",
      "dtypes: int64(3), object(1)\n",
      "memory usage: 1.5+ MB\n",
      "None\n",
      "         product_id      aisle_id  department_id\n",
      "count  49694.000000  49694.000000   49694.000000\n",
      "mean   24847.500000     67.773192      11.728478\n",
      "std    14345.566475     38.317265       5.850314\n",
      "min        1.000000      1.000000       1.000000\n",
      "25%    12424.250000     35.000000       7.000000\n",
      "50%    24847.500000     69.000000      13.000000\n",
      "75%    37270.750000    100.000000      17.000000\n",
      "max    49694.000000    134.000000      21.000000\n"
     ]
    }
   ],
   "source": [
    "print('products DataFrame:')\n",
    "print(products.head())\n",
    "print(products.info())\n",
    "print(products.describe())# mostrar información del DataFrame"
   ]
  },
  {
   "cell_type": "code",
   "execution_count": 17,
   "id": "d8370c05",
   "metadata": {
    "id": "d8370c05"
   },
   "outputs": [
    {
     "name": "stdout",
     "output_type": "stream",
     "text": [
      "order_products DataFrame:\n",
      "   order_id  product_id  add_to_cart_order  reordered\n",
      "0   2141543       11440               17.0          0\n",
      "1    567889        1560                1.0          1\n",
      "2   2261212       26683                1.0          1\n",
      "3    491251        8670               35.0          1\n",
      "4   2571142        1940                5.0          1\n",
      "<class 'pandas.core.frame.DataFrame'>\n",
      "RangeIndex: 4545007 entries, 0 to 4545006\n",
      "Data columns (total 4 columns):\n",
      " #   Column             Dtype  \n",
      "---  ------             -----  \n",
      " 0   order_id           int64  \n",
      " 1   product_id         int64  \n",
      " 2   add_to_cart_order  float64\n",
      " 3   reordered          int64  \n",
      "dtypes: float64(1), int64(3)\n",
      "memory usage: 138.7 MB\n",
      "None\n",
      "           order_id    product_id  add_to_cart_order     reordered\n",
      "count  4.545007e+06  4.545007e+06       4.544171e+06  4.545007e+06\n",
      "mean   1.711166e+06  2.558084e+04       8.351669e+00  5.905025e-01\n",
      "std    9.850955e+05  1.409552e+04       7.080368e+00  4.917411e-01\n",
      "min    4.000000e+00  1.000000e+00       1.000000e+00  0.000000e+00\n",
      "25%    8.608170e+05  1.353500e+04       3.000000e+00  0.000000e+00\n",
      "50%    1.711530e+06  2.527200e+04       6.000000e+00  1.000000e+00\n",
      "75%    2.561311e+06  3.793500e+04       1.100000e+01  1.000000e+00\n",
      "max    3.421079e+06  4.969400e+04       6.400000e+01  1.000000e+00\n"
     ]
    }
   ],
   "source": [
    "print('order_products DataFrame:')\n",
    "print(order_products.head())\n",
    "print(order_products.info())\n",
    "print(order_products.describe())# mostrar información del DataFrame"
   ]
  },
  {
   "cell_type": "code",
   "execution_count": 18,
   "id": "59e2090f",
   "metadata": {
    "id": "59e2090f"
   },
   "outputs": [
    {
     "name": "stdout",
     "output_type": "stream",
     "text": [
      "aisles DataFrame:\n",
      "   aisle_id                       aisle\n",
      "0         1       prepared soups salads\n",
      "1         2           specialty cheeses\n",
      "2         3         energy granola bars\n",
      "3         4               instant foods\n",
      "4         5  marinades meat preparation\n",
      "<class 'pandas.core.frame.DataFrame'>\n",
      "RangeIndex: 134 entries, 0 to 133\n",
      "Data columns (total 2 columns):\n",
      " #   Column    Non-Null Count  Dtype \n",
      "---  ------    --------------  ----- \n",
      " 0   aisle_id  134 non-null    int64 \n",
      " 1   aisle     134 non-null    object\n",
      "dtypes: int64(1), object(1)\n",
      "memory usage: 2.2+ KB\n",
      "None\n",
      "         aisle_id\n",
      "count  134.000000\n",
      "mean    67.500000\n",
      "std     38.826537\n",
      "min      1.000000\n",
      "25%     34.250000\n",
      "50%     67.500000\n",
      "75%    100.750000\n",
      "max    134.000000\n"
     ]
    }
   ],
   "source": [
    "print('aisles DataFrame:')\n",
    "print(aisles.head())\n",
    "print(aisles.info())\n",
    "print(aisles.describe())# mostrar información del DataFrame"
   ]
  },
  {
   "cell_type": "code",
   "execution_count": 19,
   "id": "6fc81694",
   "metadata": {
    "id": "6fc81694"
   },
   "outputs": [
    {
     "name": "stdout",
     "output_type": "stream",
     "text": [
      "departments DataFrame:\n",
      "   department_id department\n",
      "0              1     frozen\n",
      "1              2      other\n",
      "2              3     bakery\n",
      "3              4    produce\n",
      "4              5    alcohol\n",
      "<class 'pandas.core.frame.DataFrame'>\n",
      "RangeIndex: 21 entries, 0 to 20\n",
      "Data columns (total 2 columns):\n",
      " #   Column         Non-Null Count  Dtype \n",
      "---  ------         --------------  ----- \n",
      " 0   department_id  21 non-null     int64 \n",
      " 1   department     21 non-null     object\n",
      "dtypes: int64(1), object(1)\n",
      "memory usage: 464.0+ bytes\n",
      "None\n",
      "       department_id\n",
      "count      21.000000\n",
      "mean       11.000000\n",
      "std         6.204837\n",
      "min         1.000000\n",
      "25%         6.000000\n",
      "50%        11.000000\n",
      "75%        16.000000\n",
      "max        21.000000\n"
     ]
    }
   ],
   "source": [
    "print('departments DataFrame:')\n",
    "print(departments.head())\n",
    "print(departments.info())\n",
    "print(departments.describe())# mostrar información del DataFrame"
   ]
  },
  {
   "cell_type": "markdown",
   "id": "t75BD19oaR5f",
   "metadata": {
    "id": "t75BD19oaR5f"
   },
   "source": [
    "## Conclusiones\n",
    "\n",
    "Escribe aquí tus conclusiones intermedias sobre el Paso 1. Descripción de los datos.\n",
    "Los archivo se cargaron y se keyeron correctamente y se almacenaron en un dataframe utilizamos metodos como el info(),head() y descibe() para poder ver mejor los datos "
   ]
  },
  {
   "cell_type": "markdown",
   "id": "85591856",
   "metadata": {},
   "source": [
    "<div class=\"alert alert-block alert-success\">\n",
    "<b>Comentario del revisor (1ra Iteración)</b> <a class=“tocSkip”></a>\n",
    "\n",
    "Roberto realizaste un excelente análisis exploratorio de datos. Esto te permitió establecer una hoja de ruta clara para el manejo del dataset con el fin de preparar los datos para los análisis posteriores.\n",
    "\n",
    "</div>"
   ]
  },
  {
   "cell_type": "markdown",
   "id": "8RJHqxVmaVsF",
   "metadata": {
    "id": "8RJHqxVmaVsF"
   },
   "source": [
    "# Paso 2. Preprocesamiento de los datos\n",
    "\n",
    "Preprocesa los datos de la siguiente manera:\n",
    "\n",
    "- Verifica y corrige los tipos de datos (por ejemplo, asegúrate de que las columnas de ID sean números enteros).\n",
    "- Identifica y completa los valores ausentes.\n",
    "- Identifica y elimina los valores duplicados.\n",
    "\n",
    "Asegúrate de explicar qué tipos de valores ausentes y duplicados encontraste, cómo los completaste o eliminaste y por qué usaste esos métodos. ¿Por qué crees que estos valores ausentes y duplicados pueden haber estado presentes en el conjunto de datos?"
   ]
  },
  {
   "cell_type": "markdown",
   "id": "p6poABZQaZYb",
   "metadata": {
    "id": "p6poABZQaZYb"
   },
   "source": [
    "## Plan de solución\n",
    "\n",
    "Escribe aquí tu plan para el Paso 2. Preprocesamiento de los datos."
   ]
  },
  {
   "cell_type": "markdown",
   "id": "07357848-dc64-4156-9cc3-01ff4365226d",
   "metadata": {
    "id": "07357848-dc64-4156-9cc3-01ff4365226d"
   },
   "source": [
    "## Encuentra y elimina los valores duplicados (y describe cómo tomaste tus decisiones)."
   ]
  },
  {
   "cell_type": "markdown",
   "id": "f179f0a9",
   "metadata": {
    "id": "f179f0a9"
   },
   "source": [
    "### `orders` data frame"
   ]
  },
  {
   "cell_type": "code",
   "execution_count": 20,
   "id": "b99297a5-405a-463d-8535-9adc3da4ad74",
   "metadata": {
    "id": "b99297a5-405a-463d-8535-9adc3da4ad74"
   },
   "outputs": [
    {
     "name": "stdout",
     "output_type": "stream",
     "text": [
      "        order_id  user_id  order_number  order_dow  order_hour_of_day  \\\n",
      "30371    1918001   188546            14          3                  2   \n",
      "99462     794638    50898            24          3                  2   \n",
      "119251    408114    68324             4          3                  2   \n",
      "142258   2845099    31189            11          3                  2   \n",
      "145574    794638    50898            24          3                  2   \n",
      "164581   1112182   202304            84          3                  2   \n",
      "200059   1782114   106752             1          3                  2   \n",
      "204042   2125197    14050            48          3                  2   \n",
      "215294   2160484   107525            16          3                  2   \n",
      "223105   2160484   107525            16          3                  2   \n",
      "230807   1918001   188546            14          3                  2   \n",
      "242618   1021560    53767             3          3                  2   \n",
      "250626    467134    63189            21          3                  2   \n",
      "257934   1919531   191501            32          3                  2   \n",
      "259636   2282673    86751            49          3                  2   \n",
      "266232   1782114   106752             1          3                  2   \n",
      "273805   1112182   202304            84          3                  2   \n",
      "284038   2845099    31189            11          3                  2   \n",
      "311713   1021560    53767             3          3                  2   \n",
      "314427   1286742   183220            48          3                  2   \n",
      "321100    408114    68324             4          3                  2   \n",
      "323900   1919531   191501            32          3                  2   \n",
      "324868   2232988    82565             1          3                  2   \n",
      "345917   2232988    82565             1          3                  2   \n",
      "354993    391768    57671            19          3                  2   \n",
      "371905    391768    57671            19          3                  2   \n",
      "394347    467134    63189            21          3                  2   \n",
      "411408   1286742   183220            48          3                  2   \n",
      "415163   2282673    86751            49          3                  2   \n",
      "441599   2125197    14050            48          3                  2   \n",
      "\n",
      "        days_since_prior_order  \n",
      "30371                     16.0  \n",
      "99462                      2.0  \n",
      "119251                    18.0  \n",
      "142258                     7.0  \n",
      "145574                     2.0  \n",
      "164581                     6.0  \n",
      "200059                     NaN  \n",
      "204042                     3.0  \n",
      "215294                    30.0  \n",
      "223105                    30.0  \n",
      "230807                    16.0  \n",
      "242618                     9.0  \n",
      "250626                     2.0  \n",
      "257934                     7.0  \n",
      "259636                     2.0  \n",
      "266232                     NaN  \n",
      "273805                     6.0  \n",
      "284038                     7.0  \n",
      "311713                     9.0  \n",
      "314427                     4.0  \n",
      "321100                    18.0  \n",
      "323900                     7.0  \n",
      "324868                     NaN  \n",
      "345917                     NaN  \n",
      "354993                    10.0  \n",
      "371905                    10.0  \n",
      "394347                     2.0  \n",
      "411408                     4.0  \n",
      "415163                     2.0  \n",
      "441599                     3.0  \n"
     ]
    }
   ],
   "source": [
    "duplicated_orders = instacart_orders[instacart_orders.duplicated(subset='order_id', keep=False)]\n",
    "print(duplicated_orders)# Revisa si hay pedidos duplicados\n"
   ]
  },
  {
   "cell_type": "markdown",
   "id": "PEkwUX_gvt5A",
   "metadata": {
    "id": "PEkwUX_gvt5A"
   },
   "source": [
    "¿Tienes líneas duplicadas? Si sí, ¿qué tienen en común?\n",
    "Si tengo duplicados, se duplican el mismo dia (3) y a la misma hora (2)"
   ]
  },
  {
   "cell_type": "code",
   "execution_count": 34,
   "id": "0d44de5d",
   "metadata": {
    "id": "0d44de5d"
   },
   "outputs": [
    {
     "name": "stdout",
     "output_type": "stream",
     "text": [
      "        order_id  user_id  order_number  order_dow  order_hour_of_day  \\\n",
      "4838     2766110   162084            41          3                  2   \n",
      "5156     2190225   138285            18          3                  2   \n",
      "15506     553049    58599            13          3                  2   \n",
      "18420     382357   120200            19          3                  2   \n",
      "24691     690242    77357             2          3                  2   \n",
      "...          ...      ...           ...        ...                ...   \n",
      "457013   3384021    14881             6          3                  2   \n",
      "458816    910166   164782            18          3                  2   \n",
      "459635   1680532   106435             6          3                  2   \n",
      "468324    222962    54979            59          3                  2   \n",
      "477526   2592344    46860            38          3                  2   \n",
      "\n",
      "        days_since_prior_order  \n",
      "4838                      16.0  \n",
      "5156                      11.0  \n",
      "15506                      7.0  \n",
      "18420                     11.0  \n",
      "24691                      9.0  \n",
      "...                        ...  \n",
      "457013                    30.0  \n",
      "458816                     4.0  \n",
      "459635                    21.0  \n",
      "468324                     3.0  \n",
      "477526                     3.0  \n",
      "\n",
      "[106 rows x 6 columns]\n"
     ]
    }
   ],
   "source": [
    "# Basándote en tus hallazgos,\n",
    "# Verifica todos los pedidos que se hicieron el miércoles a las 2:00 a.m.\n",
    "wednesday_2am_orders = instacart_orders[(instacart_orders['order_dow'] == 3) & (instacart_orders['order_hour_of_day'] == 2)]\n",
    "\n",
    "print(wednesday_2am_orders)"
   ]
  },
  {
   "cell_type": "markdown",
   "id": "vu2OWyoqwOx5",
   "metadata": {
    "id": "vu2OWyoqwOx5"
   },
   "source": [
    "¿Qué sugiere este resultado?\n",
    "\n",
    "Se vio los datos duplicados y se deben eliminar para tener informacion limpia para el analisis "
   ]
  },
  {
   "cell_type": "code",
   "execution_count": 43,
   "id": "480563c7",
   "metadata": {
    "id": "480563c7",
    "scrolled": true
   },
   "outputs": [
    {
     "name": "stdout",
     "output_type": "stream",
     "text": [
      "        order_id  user_id  order_number  order_dow  order_hour_of_day  \\\n",
      "0        1515936   183418            11          6                 13   \n",
      "1        1690866   163593             5          5                 12   \n",
      "2        1454967    39980             4          5                 19   \n",
      "3        1768857    82516            56          0                 20   \n",
      "4        3007858   196724             2          4                 12   \n",
      "...          ...      ...           ...        ...                ...   \n",
      "478962   3210681     5617             5          1                 14   \n",
      "478963   3270802   112087             2          3                 13   \n",
      "478964    885349    82944            16          2                 11   \n",
      "478965    216274     4391             3          3                  8   \n",
      "478966   2071924     1730            18          1                 14   \n",
      "\n",
      "        days_since_prior_order  \n",
      "0                         30.0  \n",
      "1                          9.0  \n",
      "2                          2.0  \n",
      "3                         10.0  \n",
      "4                         17.0  \n",
      "...                        ...  \n",
      "478962                     7.0  \n",
      "478963                     6.0  \n",
      "478964                     6.0  \n",
      "478965                     8.0  \n",
      "478966                    15.0  \n",
      "\n",
      "[478952 rows x 6 columns]\n"
     ]
    }
   ],
   "source": [
    "# Elimina los pedidos duplicados\n",
    "instacart_orders = instacart_orders.drop_duplicates(subset= ['order_id'])\n",
    "print(instacart_orders_cleaned)"
   ]
  },
  {
   "cell_type": "code",
   "execution_count": 44,
   "id": "0b2396a2",
   "metadata": {
    "id": "0b2396a2"
   },
   "outputs": [
    {
     "name": "stdout",
     "output_type": "stream",
     "text": [
      "Número de filas duplicadas: 0\n"
     ]
    }
   ],
   "source": [
    "# Vuelve a verificar si hay filas duplicadas\n",
    "duplicated_check = instacart_orders.duplicated().sum()\n",
    "print(f'Número de filas duplicadas: {duplicated_check}')"
   ]
  },
  {
   "cell_type": "code",
   "execution_count": 46,
   "id": "f6113ef1",
   "metadata": {
    "id": "f6113ef1"
   },
   "outputs": [
    {
     "name": "stdout",
     "output_type": "stream",
     "text": [
      "0         False\n",
      "1         False\n",
      "2         False\n",
      "3         False\n",
      "4         False\n",
      "          ...  \n",
      "478962    False\n",
      "478963    False\n",
      "478964    False\n",
      "478965    False\n",
      "478966    False\n",
      "Length: 478952, dtype: bool\n"
     ]
    }
   ],
   "source": [
    "# Vuelve a verificar únicamente si hay IDs duplicados de pedidos\n",
    "duplicated_order_ids = instacart_orders.duplicated(subset='order_id')\n",
    "print(duplicated_order_ids)"
   ]
  },
  {
   "cell_type": "markdown",
   "id": "5e8905ae",
   "metadata": {
    "id": "5e8905ae"
   },
   "source": [
    "Describe brevemente tus hallazgos y lo que hiciste con ellos Revisamos si tenia datos duplicados "
   ]
  },
  {
   "cell_type": "markdown",
   "id": "45e6bc46",
   "metadata": {
    "id": "45e6bc46"
   },
   "source": [
    "### `products` data frame"
   ]
  },
  {
   "cell_type": "code",
   "execution_count": 51,
   "id": "5f526b5b-8175-46fa-a0fd-441767d50e64",
   "metadata": {
    "id": "5f526b5b-8175-46fa-a0fd-441767d50e64"
   },
   "outputs": [
    {
     "name": "stdout",
     "output_type": "stream",
     "text": [
      "total de filas duplicadas: 0\n"
     ]
    }
   ],
   "source": [
    "# Verifica si hay filas totalmente duplicadas\n",
    "duplicado_products = products[products.duplicated()]\n",
    "print(f\"total de filas duplicadas: {duplicado_products.shape[0]}\")"
   ]
  },
  {
   "cell_type": "code",
   "execution_count": 53,
   "id": "88daa4f4",
   "metadata": {
    "id": "88daa4f4"
   },
   "outputs": [
    {
     "name": "stdout",
     "output_type": "stream",
     "text": [
      "total de ID departamento duplicados: 0\n"
     ]
    }
   ],
   "source": [
    "# Revisa únicamente si hay ID de departamentos duplicados\n",
    "duplicated_department_ids = departments[departments.duplicated(subset='department_id')]\n",
    "print(f\"total de ID departamento duplicados: {duplicated_department_ids.shape[0]}\")\n"
   ]
  },
  {
   "cell_type": "code",
   "execution_count": 55,
   "id": "c773f0bf",
   "metadata": {
    "id": "c773f0bf"
   },
   "outputs": [
    {
     "name": "stdout",
     "output_type": "stream",
     "text": [
      "total de nombres de productos duplicados: 1361\n",
      "       product_id                                       product_name  \\\n",
      "0               1                         Chocolate Sandwich Cookies   \n",
      "1               2                                   All-Seasons Salt   \n",
      "2               3               Robust Golden Unsweetened Oolong Tea   \n",
      "3               4  Smart Ones Classic Favorites Mini Rigatoni Wit...   \n",
      "4               5                          Green Chile Anytime Sauce   \n",
      "...           ...                                                ...   \n",
      "49689       49690                      HIGH PERFORMANCE ENERGY DRINK   \n",
      "49690       49691                      ORIGINAL PANCAKE & WAFFLE MIX   \n",
      "49691       49692    ORGANIC INSTANT OATMEAL LIGHT MAPLE BROWN SUGAR   \n",
      "49692       49693                             SPRING WATER BODY WASH   \n",
      "49693       49694                            BURRITO- STEAK & CHEESE   \n",
      "\n",
      "       aisle_id  department_id  \\\n",
      "0            61             19   \n",
      "1           104             13   \n",
      "2            94              7   \n",
      "3            38              1   \n",
      "4             5             13   \n",
      "...         ...            ...   \n",
      "49689        64              7   \n",
      "49690       130             14   \n",
      "49691       130             14   \n",
      "49692       127             11   \n",
      "49693        38              1   \n",
      "\n",
      "                                      product_name_upper  \n",
      "0                             CHOCOLATE SANDWICH COOKIES  \n",
      "1                                       ALL-SEASONS SALT  \n",
      "2                   ROBUST GOLDEN UNSWEETENED OOLONG TEA  \n",
      "3      SMART ONES CLASSIC FAVORITES MINI RIGATONI WIT...  \n",
      "4                              GREEN CHILE ANYTIME SAUCE  \n",
      "...                                                  ...  \n",
      "49689                      HIGH PERFORMANCE ENERGY DRINK  \n",
      "49690                      ORIGINAL PANCAKE & WAFFLE MIX  \n",
      "49691    ORGANIC INSTANT OATMEAL LIGHT MAPLE BROWN SUGAR  \n",
      "49692                             SPRING WATER BODY WASH  \n",
      "49693                            BURRITO- STEAK & CHEESE  \n",
      "\n",
      "[49694 rows x 5 columns]\n"
     ]
    }
   ],
   "source": [
    "# Revisa únicamente si hay nombres duplicados de productos (convierte los nombres a letras mayúsculas para compararlos mejor)\n",
    "products['product_name_upper'] = products['product_name'].str.upper()\n",
    "duplicated_product_names = products[products.duplicated(subset=['product_name_upper'])]\n",
    "print(f\"total de nombres de productos duplicados: {duplicated_product_names.shape[0]}\")\n",
    "print(products)\n",
    "\n"
   ]
  },
  {
   "cell_type": "code",
   "execution_count": 56,
   "id": "01efd02e",
   "metadata": {
    "id": "01efd02e"
   },
   "outputs": [
    {
     "name": "stdout",
     "output_type": "stream",
     "text": [
      "       product_id                                     product_name  aisle_id  \\\n",
      "2058         2059                                  Biotin 1000 Mcg        47   \n",
      "5455         5456                 Green Tea With Ginseng and Honey        96   \n",
      "5558         5559                           Cream Of Mushroom Soup        69   \n",
      "7558         7559                        Cinnamon Rolls with Icing       105   \n",
      "9037         9038                           American Cheese slices        21   \n",
      "...           ...                                              ...       ...   \n",
      "49689       49690                    HIGH PERFORMANCE ENERGY DRINK        64   \n",
      "49690       49691                    ORIGINAL PANCAKE & WAFFLE MIX       130   \n",
      "49691       49692  ORGANIC INSTANT OATMEAL LIGHT MAPLE BROWN SUGAR       130   \n",
      "49692       49693                           SPRING WATER BODY WASH       127   \n",
      "49693       49694                          BURRITO- STEAK & CHEESE        38   \n",
      "\n",
      "       department_id                               product_name_upper  \n",
      "2058              11                                  BIOTIN 1000 MCG  \n",
      "5455              20                 GREEN TEA WITH GINSENG AND HONEY  \n",
      "5558              15                           CREAM OF MUSHROOM SOUP  \n",
      "7558              13                        CINNAMON ROLLS WITH ICING  \n",
      "9037              16                           AMERICAN CHEESE SLICES  \n",
      "...              ...                                              ...  \n",
      "49689              7                    HIGH PERFORMANCE ENERGY DRINK  \n",
      "49690             14                    ORIGINAL PANCAKE & WAFFLE MIX  \n",
      "49691             14  ORGANIC INSTANT OATMEAL LIGHT MAPLE BROWN SUGAR  \n",
      "49692             11                           SPRING WATER BODY WASH  \n",
      "49693              1                          BURRITO- STEAK & CHEESE  \n",
      "\n",
      "[104 rows x 5 columns]\n"
     ]
    }
   ],
   "source": [
    "# Revisa si hay nombres duplicados de productos no faltantes\n",
    "# Convertir nombres de productos a mayúsculas para comparación\n",
    "products['product_name_upper'] = products['product_name'].str.upper()\n",
    "duplicated_product_names_non_null = products[products.duplicated(subset='product_name_upper') & products['product_name'].notna()]\n",
    "\n",
    "print(duplicated_product_names_non_null)\n",
    "\n",
    "\n"
   ]
  },
  {
   "cell_type": "markdown",
   "id": "9da8d293",
   "metadata": {
    "id": "9da8d293"
   },
   "source": [
    "Describe brevemente tus hallazgos y lo que hiciste con ellos.\n",
    "Descubrimos que contiene nombres duplicados al convertirlos en letra mayusculas, no tengo instrucciones para eliminarlos "
   ]
  },
  {
   "cell_type": "markdown",
   "id": "60f30db1",
   "metadata": {
    "id": "60f30db1"
   },
   "source": [
    "### `departments` data frame"
   ]
  },
  {
   "cell_type": "code",
   "execution_count": 66,
   "id": "fb410ad4-0fbf-4b80-bb09-23fdea79afe3",
   "metadata": {
    "id": "fb410ad4-0fbf-4b80-bb09-23fdea79afe3"
   },
   "outputs": [
    {
     "name": "stdout",
     "output_type": "stream",
     "text": [
      "total de filas duplicadas: 0\n"
     ]
    }
   ],
   "source": [
    "duplicado_departments = departments[departments.duplicated()]\n",
    "print(f\"total de filas duplicadas: {duplicado_departments.shape[0]}\")"
   ]
  },
  {
   "cell_type": "code",
   "execution_count": 71,
   "id": "332b12bb",
   "metadata": {
    "id": "332b12bb"
   },
   "outputs": [
    {
     "name": "stdout",
     "output_type": "stream",
     "text": [
      "total de filas duplicadas: 0\n"
     ]
    }
   ],
   "source": [
    "# Revisa únicamente si hay IDs duplicadas de productos\n",
    "duplicated_department_ids = departments[departments.duplicated(subset='department_id')]\n",
    "print(f\"total de filas duplicadas: {duplicado_departments.shape[0]}\")\n"
   ]
  },
  {
   "cell_type": "markdown",
   "id": "bd30d78e",
   "metadata": {
    "id": "bd30d78e"
   },
   "source": [
    "Describe brevemente tus hallazgos y lo que hiciste con ellos.\n",
    "No encontre filas duplicadas "
   ]
  },
  {
   "cell_type": "markdown",
   "id": "889349c1",
   "metadata": {
    "id": "889349c1"
   },
   "source": [
    "### `aisles` data frame"
   ]
  },
  {
   "cell_type": "code",
   "execution_count": 75,
   "id": "9da89fb9-4679-40f5-ad0d-c34df753a3f8",
   "metadata": {
    "id": "9da89fb9-4679-40f5-ad0d-c34df753a3f8"
   },
   "outputs": [
    {
     "name": "stdout",
     "output_type": "stream",
     "text": [
      "Total de filas duplicadas:0\n"
     ]
    }
   ],
   "source": [
    "# Verificar filas totalmente duplicadas\n",
    "duplicados_filas = aisles[aisles.duplicated()]\n",
    "print(f\"Total de filas duplicadas:{duplicados_filas.shape[0]}\") \n"
   ]
  },
  {
   "cell_type": "code",
   "execution_count": 76,
   "id": "da7c2822",
   "metadata": {
    "id": "da7c2822"
   },
   "outputs": [
    {
     "name": "stdout",
     "output_type": "stream",
     "text": [
      "Total de IDs de pasillos duplicados: 0\n"
     ]
    }
   ],
   "source": [
    "# Revisa únicamente si hay IDs duplicadas de pasillos\n",
    "duplicados_aisle_id = aisles[aisles.duplicated(subset=['aisle_id'])]\n",
    "print(f\"Total de IDs de pasillos duplicados: {duplicados_aisle_id.shape[0]}\")"
   ]
  },
  {
   "cell_type": "markdown",
   "id": "ac63826f",
   "metadata": {
    "id": "ac63826f"
   },
   "source": [
    "Describe brevemente tus hallazgos y lo que hiciste con ellos. No encontre datos duplicados "
   ]
  },
  {
   "cell_type": "markdown",
   "id": "274cd06a",
   "metadata": {
    "id": "274cd06a"
   },
   "source": [
    "### `order_products` data frame"
   ]
  },
  {
   "cell_type": "code",
   "execution_count": 78,
   "id": "52326689-84a8-4b8f-a881-7c68780f62c9",
   "metadata": {
    "id": "52326689-84a8-4b8f-a881-7c68780f62c9"
   },
   "outputs": [
    {
     "name": "stdout",
     "output_type": "stream",
     "text": [
      "Total de filas duplicadas: 0\n"
     ]
    }
   ],
   "source": [
    "# Revisa si hay filas totalmente duplicadas\n",
    "duplicados_filas = order_products[order_products.duplicated()]\n",
    "print(f\"Total de filas duplicadas: {duplicados_filas.shape[0]}\")\n",
    "\n"
   ]
  },
  {
   "cell_type": "code",
   "execution_count": 79,
   "id": "7b861391",
   "metadata": {
    "id": "7b861391"
   },
   "outputs": [
    {
     "name": "stdout",
     "output_type": "stream",
     "text": [
      "Total de duplicados engañosos en 'order_id' y 'product_id': 0\n"
     ]
    }
   ],
   "source": [
    "# Vuelve a verificar si hay cualquier otro duplicado engañoso\n",
    "duplicados_enganyosos = order_products[order_products.duplicated(subset=['order_id', 'product_id'])]\n",
    "print(f\"Total de duplicados engañosos en 'order_id' y 'product_id': {duplicados_enganyosos.shape[0]}\")"
   ]
  },
  {
   "cell_type": "markdown",
   "id": "0b890492",
   "metadata": {
    "id": "0b890492"
   },
   "source": [
    "Describe brevemente tus hallazgos y lo que hiciste con ellos. No encotre datos duplicados "
   ]
  },
  {
   "cell_type": "markdown",
   "id": "983c638f",
   "metadata": {},
   "source": [
    "<div class=\"alert alert-block alert-success\">\n",
    "<b>Comentario del revisor (1ra Iteración)</b> <a class=“tocSkip”></a>\n",
    "\n",
    "Muy buen trabajos con los datos duplicados. Hacer una revisión de este tipo de valores es fundamental para evitar afectaciones en el comportamiento del conjunto de los datos que nos lleven a conclusiones erroneas.\n",
    "\n",
    "</div>"
   ]
  },
  {
   "cell_type": "markdown",
   "id": "1e46de76",
   "metadata": {
    "id": "1e46de76"
   },
   "source": [
    "## Encuentra y elimina los valores ausentes\n",
    "\n",
    "Al trabajar con valores duplicados, pudimos observar que también nos falta investigar valores ausentes:\n",
    "\n",
    "* La columna `'product_name'` de la tabla products.\n",
    "* La columna `'days_since_prior_order'` de la tabla orders.\n",
    "* La columna `'add_to_cart_order'` de la tabla order_productos."
   ]
  },
  {
   "cell_type": "markdown",
   "id": "c0aebd78",
   "metadata": {
    "id": "c0aebd78"
   },
   "source": [
    "### `products` data frame"
   ]
  },
  {
   "cell_type": "code",
   "execution_count": 80,
   "id": "fe4a8b0f",
   "metadata": {
    "id": "fe4a8b0f"
   },
   "outputs": [
    {
     "name": "stdout",
     "output_type": "stream",
     "text": [
      "       product_id product_name  aisle_id  department_id product_name_upper\n",
      "37             38          NaN       100             21                NaN\n",
      "71             72          NaN       100             21                NaN\n",
      "109           110          NaN       100             21                NaN\n",
      "296           297          NaN       100             21                NaN\n",
      "416           417          NaN       100             21                NaN\n",
      "...           ...          ...       ...            ...                ...\n",
      "49552       49553          NaN       100             21                NaN\n",
      "49574       49575          NaN       100             21                NaN\n",
      "49640       49641          NaN       100             21                NaN\n",
      "49663       49664          NaN       100             21                NaN\n",
      "49668       49669          NaN       100             21                NaN\n",
      "\n",
      "[1258 rows x 5 columns]\n"
     ]
    }
   ],
   "source": [
    "# Encuentra los valores ausentes en la columna 'product_name'\n",
    "missing_product_names = products[products['product_name'].isna()]\n",
    "print(missing_product_names)\n"
   ]
  },
  {
   "cell_type": "markdown",
   "id": "-A6x1AbJhjkp",
   "metadata": {
    "id": "-A6x1AbJhjkp"
   },
   "source": [
    "Describe brevemente cuáles son tus hallazgos.\n",
    "Encontramos que en la columna product_name todos los valores son ausentes "
   ]
  },
  {
   "cell_type": "code",
   "execution_count": 83,
   "id": "e96167bc",
   "metadata": {
    "id": "e96167bc"
   },
   "outputs": [
    {
     "name": "stdout",
     "output_type": "stream",
     "text": [
      "       product_id product_name  aisle_id  department_id product_name_upper\n",
      "37             38          NaN       100             21                NaN\n",
      "71             72          NaN       100             21                NaN\n",
      "109           110          NaN       100             21                NaN\n",
      "296           297          NaN       100             21                NaN\n",
      "416           417          NaN       100             21                NaN\n",
      "...           ...          ...       ...            ...                ...\n",
      "49552       49553          NaN       100             21                NaN\n",
      "49574       49575          NaN       100             21                NaN\n",
      "49640       49641          NaN       100             21                NaN\n",
      "49663       49664          NaN       100             21                NaN\n",
      "49668       49669          NaN       100             21                NaN\n",
      "\n",
      "[1258 rows x 5 columns]\n",
      "Total de productos con nombres ausentes: 1258\n",
      "Total de productos con nombres ausentes en el pasillo ID 100: 1258\n"
     ]
    }
   ],
   "source": [
    "#  ¿Todos los nombres de productos ausentes están relacionados con el pasillo con ID 100?\n",
    "missing_products_aisle_100 = missing_product_names[missing_product_names['aisle_id'] == 100]\n",
    "print(missing_products_aisle_100)\n",
    "print(f\"Total de productos con nombres ausentes: {len(missing_product_names)}\")\n",
    "print(f\"Total de productos con nombres ausentes en el pasillo ID 100: {len(missing_products_aisle_100)}\")\n",
    "\n"
   ]
  },
  {
   "cell_type": "markdown",
   "id": "WRpIfXRphpSL",
   "metadata": {
    "id": "WRpIfXRphpSL"
   },
   "source": [
    "Describe brevemente cuáles son tus hallazgos.\n",
    "Hemos identificado que algunos productos tienen el valor NaN en la columna product_name\n",
    "Al filtrar estos productos con nombres ausentes y verificar su aisle_id, observamos que todos los productos con nombres ausentes están efectivamente relacionados con el pasillo con ID 100.\n"
   ]
  },
  {
   "cell_type": "code",
   "execution_count": 84,
   "id": "8fd0a541",
   "metadata": {
    "id": "8fd0a541"
   },
   "outputs": [
    {
     "name": "stdout",
     "output_type": "stream",
     "text": [
      "       product_id product_name  aisle_id  department_id product_name_upper\n",
      "37             38          NaN       100             21                NaN\n",
      "71             72          NaN       100             21                NaN\n",
      "109           110          NaN       100             21                NaN\n",
      "296           297          NaN       100             21                NaN\n",
      "416           417          NaN       100             21                NaN\n",
      "...           ...          ...       ...            ...                ...\n",
      "49552       49553          NaN       100             21                NaN\n",
      "49574       49575          NaN       100             21                NaN\n",
      "49640       49641          NaN       100             21                NaN\n",
      "49663       49664          NaN       100             21                NaN\n",
      "49668       49669          NaN       100             21                NaN\n",
      "\n",
      "[1258 rows x 5 columns]\n",
      "Total de productos con nombres ausentes: 1258\n",
      "Total de productos con nombres ausentes en el departamento ID 21: 1258\n"
     ]
    }
   ],
   "source": [
    "# ¿Todos los nombres de productos ausentes están relacionados con el departamento con ID 21?\n",
    "missing_product_names = products[products['product_name'].isna()]\n",
    "missing_products_department_21 = missing_product_names[missing_product_names['department_id'] == 21]\n",
    "print(missing_products_department_21)\n",
    "print(f\"Total de productos con nombres ausentes: {len(missing_product_names)}\")\n",
    "print(f\"Total de productos con nombres ausentes en el departamento ID 21: {len(missing_products_department_21)}\")\n",
    "\n",
    "\n"
   ]
  },
  {
   "cell_type": "markdown",
   "id": "qDpdYn1Fht_I",
   "metadata": {
    "id": "qDpdYn1Fht_I"
   },
   "source": [
    "Describe brevemente cuáles son tus hallazgos.\n",
    "Encontramos que los productos ausentes estan relacionados con el departamento 21 "
   ]
  },
  {
   "cell_type": "code",
   "execution_count": 85,
   "id": "325c3464",
   "metadata": {
    "id": "325c3464"
   },
   "outputs": [
    {
     "name": "stdout",
     "output_type": "stream",
     "text": [
      "    aisle_id    aisle\n",
      "99       100  missing\n",
      "    department_id department\n",
      "20             21    missing\n"
     ]
    }
   ],
   "source": [
    "# Usa las tablas department y aisle para revisar los datos del pasillo con ID 100 y el departamento con ID 21.\n",
    "aisle_100_info = aisles[aisles['aisle_id'] == 100]\n",
    "# Mostrar información del pasillo con ID 100\n",
    "print(aisle_100_info)\n",
    "\n",
    "# Filtrar datos del departamento con ID 21\n",
    "department_21_info = departments[departments['department_id'] == 21]\n",
    "\n",
    "# Mostrar información del departamento con ID 21\n",
    "print(department_21_info)\n"
   ]
  },
  {
   "cell_type": "markdown",
   "id": "nqhSTUPhhvEJ",
   "metadata": {
    "id": "nqhSTUPhhvEJ"
   },
   "source": [
    "Describe brevemente cuáles son tus hallazgos.\n",
    "Al revisar los datos del pasillo con ID 100 y el departamento con ID 21, hemos encontrado lo siguiente: Todos los productos con nombres ausentes (product_name con valor NaN) están relacionados con este pasillo."
   ]
  },
  {
   "cell_type": "code",
   "execution_count": 86,
   "id": "6b295120",
   "metadata": {
    "id": "6b295120"
   },
   "outputs": [
    {
     "name": "stdout",
     "output_type": "stream",
     "text": [
      "       product_id product_name  aisle_id  department_id product_name_upper\n",
      "37             38      Unknown       100             21                NaN\n",
      "71             72      Unknown       100             21                NaN\n",
      "109           110      Unknown       100             21                NaN\n",
      "296           297      Unknown       100             21                NaN\n",
      "416           417      Unknown       100             21                NaN\n",
      "...           ...          ...       ...            ...                ...\n",
      "49552       49553      Unknown       100             21                NaN\n",
      "49574       49575      Unknown       100             21                NaN\n",
      "49640       49641      Unknown       100             21                NaN\n",
      "49663       49664      Unknown       100             21                NaN\n",
      "49668       49669      Unknown       100             21                NaN\n",
      "\n",
      "[1258 rows x 5 columns]\n"
     ]
    }
   ],
   "source": [
    "# Completa los nombres de productos ausentes con 'Unknown'\n",
    "products['product_name'].fillna('Unknown', inplace=True)\n",
    "\n",
    "# Verificar los cambios\n",
    "print(products[products['product_name'] == 'Unknown'])\n"
   ]
  },
  {
   "cell_type": "markdown",
   "id": "fc70e5ad",
   "metadata": {
    "id": "fc70e5ad"
   },
   "source": [
    "Describe brevemente tus hallazgos y lo que hiciste con ellos.\n",
    "Se logro cambiar los NaN por Unknown"
   ]
  },
  {
   "cell_type": "markdown",
   "id": "7eb45c86",
   "metadata": {
    "id": "7eb45c86"
   },
   "source": [
    "### `orders` data frame"
   ]
  },
  {
   "cell_type": "code",
   "execution_count": 91,
   "id": "93e41d96",
   "metadata": {
    "id": "93e41d96"
   },
   "outputs": [
    {
     "name": "stdout",
     "output_type": "stream",
     "text": [
      "order_id                      0\n",
      "user_id                       0\n",
      "order_number                  0\n",
      "order_dow                     0\n",
      "order_hour_of_day             0\n",
      "days_since_prior_order    28817\n",
      "dtype: int64\n"
     ]
    }
   ],
   "source": [
    "# Encuentra los valores ausentes\n",
    "missing_values_instacart_orders = instacart_orders.isna().sum()\n",
    "\n",
    "print(missing_values_instacart_orders)"
   ]
  },
  {
   "cell_type": "code",
   "execution_count": 94,
   "id": "166e5a86",
   "metadata": {
    "id": "166e5a86"
   },
   "outputs": [
    {
     "name": "stdout",
     "output_type": "stream",
     "text": [
      "Total de valores ausentes que no son el primer pedido del cliente: 0\n",
      "Empty DataFrame\n",
      "Columns: [order_id, user_id, order_number, order_dow, order_hour_of_day, days_since_prior_order]\n",
      "Index: []\n"
     ]
    }
   ],
   "source": [
    "# ¿Hay algún valor ausente que no sea el primer pedido del cliente?\n",
    "# Filtrar pedidos que no son el primer pedido del cliente\n",
    "valores_ausentes_no_primer_pedido = instacart_orders[(instacart_orders['days_since_prior_order'].isnull()) & (instacart_orders['order_number'] != 1)]\n",
    "\n",
    "# Mostrar los resultados\n",
    "print(f\"Total de valores ausentes que no son el primer pedido del cliente: {valores_ausentes_no_primer_pedido.shape[0]}\")\n",
    "print(valores_ausentes_no_primer_pedido)\n"
   ]
  },
  {
   "cell_type": "markdown",
   "id": "4e23d089",
   "metadata": {
    "id": "4e23d089"
   },
   "source": [
    "Describe brevemente tus hallazgos y lo que hiciste con ellos.No encontramos un valor ausente que no sea el primer pedido "
   ]
  },
  {
   "cell_type": "markdown",
   "id": "69dc9ca4",
   "metadata": {
    "id": "69dc9ca4"
   },
   "source": [
    "### `order_products` data frame"
   ]
  },
  {
   "cell_type": "code",
   "execution_count": 95,
   "id": "b8240253",
   "metadata": {
    "id": "b8240253"
   },
   "outputs": [
    {
     "name": "stdout",
     "output_type": "stream",
     "text": [
      "order_id               0\n",
      "product_id             0\n",
      "add_to_cart_order    836\n",
      "reordered              0\n",
      "dtype: int64\n"
     ]
    }
   ],
   "source": [
    "# Encuentra los valores ausentes\n",
    "missing_values_order_products = order_products.isna().sum()\n",
    "# Mostrar resumen de valores ausentes\n",
    "print(missing_values_order_products)"
   ]
  },
  {
   "cell_type": "code",
   "execution_count": 96,
   "id": "9a78e5ee",
   "metadata": {
    "id": "9a78e5ee"
   },
   "outputs": [
    {
     "name": "stdout",
     "output_type": "stream",
     "text": [
      "Valor mínimo: 1.0\n",
      "Valor máximo: 64.0\n"
     ]
    }
   ],
   "source": [
    "# ¿Cuáles son los valores mínimos y máximos en esta columna?\n",
    "min_value = order_products['add_to_cart_order'].min()\n",
    "max_value = order_products['add_to_cart_order'].max()\n",
    "\n",
    "# Mostrar valores mínimos y máximos\n",
    "print(f\"Valor mínimo: {min_value}\")\n",
    "print(f\"Valor máximo: {max_value}\")\n"
   ]
  },
  {
   "cell_type": "markdown",
   "id": "-Z2Ja215jW78",
   "metadata": {
    "id": "-Z2Ja215jW78"
   },
   "source": [
    "Describe brevemente cuáles son tus hallazgos.\n",
    "La columna add_to_cart_order contiene algunos valores ausentes (NaN).\n",
    "Valor Mínimo: El valor mínimo en la columna add_to_cart_order es 1.\n",
    "Valor Máximo: El valor máximo en la columna add_to_cart_order es 164\n"
   ]
  },
  {
   "cell_type": "code",
   "execution_count": 97,
   "id": "ab9d0c2b",
   "metadata": {
    "id": "ab9d0c2b"
   },
   "outputs": [
    {
     "name": "stdout",
     "output_type": "stream",
     "text": [
      "[2449164 1968313 2926893 1717990 1959075  844733   61355  936852  264710\n",
      " 1564093  129627  293169 2849370 1386261 3308010  903110 2136777 3347453\n",
      " 1888628  165801 2094761 1038146 2997021  813364 2256933  171934 2409109\n",
      " 1730767 1169835  733526  404157 3125735  747668 1800005 1961723  871281\n",
      "  388234 1648217 1477139  102236 1021563 1832957 2721963  678116 1220886\n",
      " 1673227 2999801 1633337 2470674 2625444 1677118 2479011 3383594 1183255\n",
      " 1713430 2652650 1598369 1916118  854647 1302315  888470  180546 2621907\n",
      " 1308785 2729254    9310 2170451 2979697 1625713 1529171]\n"
     ]
    }
   ],
   "source": [
    "# Guarda todas las IDs de pedidos que tengan un valor ausente en 'add_to_cart_order'\n",
    "# Encontrar valores ausentes en la columna 'add_to_cart_order'\n",
    "missing_add_to_cart_order = order_products[order_products['add_to_cart_order'].isna()]\n",
    "# Guardar las IDs de pedidos que tienen valores ausentes en 'add_to_cart_order'\n",
    "order_ids_with_missing_add_to_cart_order = missing_add_to_cart_order['order_id'].unique()\n",
    "\n",
    "print(order_ids_with_missing_add_to_cart_order)"
   ]
  },
  {
   "cell_type": "code",
   "execution_count": 104,
   "id": "54c31695",
   "metadata": {
    "id": "54c31695"
   },
   "outputs": [
    {
     "name": "stdout",
     "output_type": "stream",
     "text": [
      "Total de pedidos con valores ausentes: 70\n",
      "Pedidos con valores ausentes que tienen más de 64 productos: 0\n",
      "Pedidos con valores ausentes que tienen más de 64 productos:\n",
      "Series([], Name: product_id, dtype: int64)\n",
      "Pedido ID: 9310\n",
      "         order_id  product_id  add_to_cart_order  reordered\n",
      "2437093      9310       25753                NaN          0\n",
      "\n",
      "\n",
      "Pedido ID: 61355\n",
      "         order_id  product_id  add_to_cart_order  reordered\n",
      "57981       61355        5322                NaN          0\n",
      "247893      61355        8594                NaN          0\n",
      "381535      61355       12315                NaN          0\n",
      "399791      61355       10199                NaN          0\n",
      "427017      61355        5552                NaN          0\n",
      "...           ...         ...                ...        ...\n",
      "4026844     61355       48104                NaN          0\n",
      "4063159     61355        1087                NaN          0\n",
      "4126014     61355       12440                NaN          0\n",
      "4164200     61355        9484                NaN          0\n",
      "4268097     61355       40709                NaN          0\n",
      "\n",
      "[63 rows x 4 columns]\n",
      "\n",
      "\n",
      "Pedido ID: 102236\n",
      "         order_id  product_id  add_to_cart_order  reordered\n",
      "481664     102236       26629                NaN          0\n",
      "540855     102236       22227                NaN          0\n",
      "600064     102236       43295                NaN          0\n",
      "663110     102236        2635                NaN          0\n",
      "723022     102236        5250                NaN          0\n",
      "752827     102236       23645                NaN          0\n",
      "837322     102236       42300                NaN          0\n",
      "938494     102236       22559                NaN          0\n",
      "1478807    102236       43037                NaN          0\n",
      "1517209    102236        7361                NaN          0\n",
      "1547289    102236        5699                NaN          0\n",
      "2272326    102236       26604                NaN          0\n",
      "2326653    102236       23579                NaN          0\n",
      "2514208    102236       46820                NaN          0\n",
      "2518284    102236       25513                NaN          0\n",
      "2540660    102236        4428                NaN          0\n",
      "2694049    102236       33716                NaN          0\n",
      "2704130    102236       27555                NaN          0\n",
      "2825661    102236       21914                NaN          0\n",
      "2856057    102236       46106                NaN          0\n",
      "2968062    102236       47717                NaN          0\n",
      "3174053    102236       44293                NaN          0\n",
      "3703410    102236        4472                NaN          0\n",
      "3769220    102236       12023                NaN          0\n",
      "3776826    102236       16757                NaN          0\n",
      "3786462    102236       27966                NaN          0\n",
      "3876530    102236       37766                NaN          0\n",
      "3993634    102236       12846                NaN          0\n",
      "4006913    102236       21137                NaN          0\n",
      "4123625    102236       35065                NaN          0\n",
      "4371117    102236       24852                NaN          0\n",
      "\n",
      "\n",
      "Pedido ID: 129627\n",
      "         order_id  product_id  add_to_cart_order  reordered\n",
      "69773      129627       31372                NaN          0\n",
      "1526358    129627       48697                NaN          0\n",
      "2481755    129627       20280                NaN          0\n",
      "3558313    129627       22627                NaN          0\n",
      "3890724    129627       13852                NaN          0\n",
      "\n",
      "\n",
      "Pedido ID: 165801\n",
      "         order_id  product_id  add_to_cart_order  reordered\n",
      "120841     165801        4137                NaN          0\n",
      "178477     165801        6187                NaN          0\n",
      "1358517    165801       30737                NaN          0\n",
      "2356270    165801       32734                NaN          0\n",
      "3580912    165801       40278                NaN          0\n",
      "3914327    165801        8707                NaN          0\n",
      "\n",
      "\n",
      "Pedido ID: 171934\n",
      "         order_id  product_id  add_to_cart_order  reordered\n",
      "193230     171934       18441                NaN          0\n",
      "334369     171934        5358                NaN          0\n",
      "432206     171934        8021                NaN          0\n",
      "464703     171934        5652                NaN          0\n",
      "489124     171934       41972                NaN          0\n",
      "572431     171934        7916                NaN          0\n",
      "613154     171934       44422                NaN          0\n",
      "1210894    171934        5991                NaN          0\n",
      "1291077    171934       23649                NaN          0\n",
      "1448961    171934        3339                NaN          0\n",
      "1823440    171934       26940                NaN          0\n",
      "1917435    171934       18479                NaN          1\n",
      "1957066    171934       28436                NaN          0\n",
      "2037996    171934       43908                NaN          0\n",
      "2427081    171934       18095                NaN          1\n",
      "2689674    171934       40173                NaN          0\n",
      "2729013    171934       25886                NaN          0\n",
      "2729727    171934        4350                NaN          0\n",
      "2743329    171934       26032                NaN          1\n",
      "2872753    171934       13457                NaN          0\n",
      "2893698    171934       11481                NaN          0\n",
      "2920754    171934       24010                NaN          0\n",
      "3051666    171934       18689                NaN          0\n",
      "3137842    171934       24382                NaN          0\n",
      "3170001    171934       41588                NaN          0\n",
      "3269699    171934       27437                NaN          0\n",
      "3275363    171934        1096                NaN          0\n",
      "3462154    171934       47232                NaN          0\n",
      "3526110    171934        7515                NaN          0\n",
      "3635803    171934       33443                NaN          0\n",
      "3863361    171934        8088                NaN          0\n",
      "3984069    171934       29487                NaN          0\n",
      "4098125    171934        7647                NaN          0\n",
      "4143741    171934        1216                NaN          0\n",
      "4216318    171934       16174                NaN          0\n",
      "4217570    171934       26376                NaN          0\n",
      "4226429    171934       18625                NaN          0\n",
      "4330243    171934       23898                NaN          0\n",
      "4370100    171934       46642                NaN          0\n",
      "4407628    171934       12442                NaN          0\n",
      "\n",
      "\n",
      "Pedido ID: 180546\n",
      "         order_id  product_id  add_to_cart_order  reordered\n",
      "2087994    180546       26165                NaN          0\n",
      "4431614    180546        1194                NaN          0\n",
      "\n",
      "\n",
      "Pedido ID: 264710\n",
      "         order_id  product_id  add_to_cart_order  reordered\n",
      "62655      264710       40281                NaN          0\n",
      "70057      264710       41602                NaN          0\n",
      "193574     264710       37912                NaN          0\n",
      "554314     264710       45685                NaN          0\n",
      "639301     264710       32063                NaN          1\n",
      "858741     264710       17634                NaN          0\n",
      "1117729    264710       22736                NaN          0\n",
      "1135124    264710       31987                NaN          1\n",
      "1340955    264710       20865                NaN          1\n",
      "1340981    264710        8920                NaN          0\n",
      "1448561    264710       11798                NaN          0\n",
      "1598976    264710       39485                NaN          0\n",
      "1601821    264710        1143                NaN          1\n",
      "1738659    264710       14947                NaN          1\n",
      "2028054    264710       47532                NaN          0\n",
      "2185124    264710        9076                NaN          0\n",
      "2509715    264710       49098                NaN          0\n",
      "2531893    264710       45190                NaN          1\n",
      "2644740    264710        1469                NaN          0\n",
      "3012391    264710       28465                NaN          0\n",
      "3028521    264710       49474                NaN          0\n",
      "3222789    264710       38236                NaN          0\n",
      "3578033    264710         403                NaN          0\n",
      "3841877    264710       36170                NaN          1\n",
      "4120077    264710       37286                NaN          0\n",
      "4256824    264710       36173                NaN          1\n",
      "4275840    264710       45965                NaN          0\n",
      "\n",
      "\n",
      "Pedido ID: 293169\n",
      "         order_id  product_id  add_to_cart_order  reordered\n",
      "79239      293169       44628                NaN          0\n",
      "240071     293169       18598                NaN          0\n",
      "539603     293169       11452                NaN          0\n",
      "1631202    293169       18567                NaN          0\n",
      "1970661    293169       32857                NaN          0\n",
      "1984612    293169       40310                NaN          0\n",
      "2191874    293169       40709                NaN          0\n",
      "2554756    293169        2838                NaN          0\n",
      "2989638    293169       23233                NaN          1\n",
      "3027887    293169       18362                NaN          0\n",
      "3351043    293169       49683                NaN          0\n",
      "3508398    293169       27012                NaN          0\n",
      "4297389    293169       23744                NaN          0\n",
      "\n",
      "\n",
      "Pedido ID: 388234\n",
      "         order_id  product_id  add_to_cart_order  reordered\n",
      "398151     388234        7751                NaN          0\n",
      "608124     388234       13343                NaN          0\n",
      "719863     388234       26606                NaN          0\n",
      "766812     388234       14183                NaN          0\n",
      "3987289    388234       30756                NaN          0\n",
      "4248945    388234       27787                NaN          0\n",
      "\n",
      "\n",
      "Pedido ID: 404157\n",
      "         order_id  product_id  add_to_cart_order  reordered\n",
      "281168     404157       40146                NaN          0\n",
      "641294     404157       17803                NaN          0\n",
      "1939559    404157       46415                NaN          0\n",
      "1954118    404157        4592                NaN          0\n",
      "2457603    404157       28601                NaN          1\n",
      "2478283    404157       28535                NaN          1\n",
      "2684605    404157       11046                NaN          0\n",
      "2764610    404157       11941                NaN          1\n",
      "3050292    404157       43908                NaN          1\n",
      "3710627    404157       38772                NaN          0\n",
      "4384606    404157       20785                NaN          0\n",
      "4517562    404157        9517                NaN          0\n",
      "\n",
      "\n",
      "Pedido ID: 678116\n",
      "         order_id  product_id  add_to_cart_order  reordered\n",
      "556487     678116       23929                NaN          0\n",
      "932587     678116       35515                NaN          0\n",
      "1740444    678116       16965                NaN          1\n",
      "1823846    678116       29508                NaN          1\n",
      "2489959    678116       40865                NaN          1\n",
      "3795085    678116        4235                NaN          0\n",
      "\n",
      "\n",
      "Pedido ID: 733526\n",
      "         order_id  product_id  add_to_cart_order  reordered\n",
      "238630     733526       24097                NaN          1\n",
      "254403     733526       11230                NaN          1\n",
      "1247598    733526       45582                NaN          1\n",
      "1710975    733526       29252                NaN          1\n",
      "2431964    733526       38531                NaN          0\n",
      "\n",
      "\n",
      "Pedido ID: 747668\n",
      "        order_id  product_id  add_to_cart_order  reordered\n",
      "349651    747668       14494                NaN          0\n",
      "\n",
      "\n",
      "Pedido ID: 813364\n",
      "         order_id  product_id  add_to_cart_order  reordered\n",
      "177291     813364       13798                NaN          0\n",
      "227858     813364       31215                NaN          0\n",
      "392812     813364       44987                NaN          1\n",
      "643692     813364       46906                NaN          1\n",
      "710019     813364       16797                NaN          1\n",
      "824157     813364        4656                NaN          0\n",
      "1075443    813364       29363                NaN          0\n",
      "1637293    813364       11512                NaN          1\n",
      "1833945    813364       42710                NaN          0\n",
      "1978836    813364       35871                NaN          0\n",
      "2334863    813364       39877                NaN          0\n",
      "2344724    813364       33279                NaN          0\n",
      "2437823    813364       48726                NaN          0\n",
      "2638941    813364       30442                NaN          0\n",
      "2676804    813364         691                NaN          1\n",
      "2699009    813364        9339                NaN          0\n",
      "3170784    813364        2716                NaN          0\n",
      "3195109    813364       26604                NaN          0\n",
      "3868342    813364       35851                NaN          0\n",
      "4174377    813364        9076                NaN          0\n",
      "4286620    813364       25630                NaN          0\n",
      "\n",
      "\n",
      "Pedido ID: 844733\n",
      "         order_id  product_id  add_to_cart_order  reordered\n",
      "34183      844733       32717                NaN          0\n",
      "147722     844733       22151                NaN          0\n",
      "153946     844733       35221                NaN          0\n",
      "238768     844733        4421                NaN          0\n",
      "649876     844733       24852                NaN          1\n",
      "807748     844733        3855                NaN          0\n",
      "978954     844733       48795                NaN          0\n",
      "2736332    844733       18502                NaN          0\n",
      "3120415    844733        3957                NaN          0\n",
      "3178238    844733       17758                NaN          0\n",
      "3556708    844733       17183                NaN          0\n",
      "3564756    844733       21543                NaN          0\n",
      "3804493    844733       15912                NaN          0\n",
      "\n",
      "\n",
      "Pedido ID: 854647\n",
      "         order_id  product_id  add_to_cart_order  reordered\n",
      "1546886    854647       37664                NaN          0\n",
      "2131333    854647       18370                NaN          0\n",
      "3640522    854647       11984                NaN          0\n",
      "\n",
      "\n",
      "Pedido ID: 871281\n",
      "         order_id  product_id  add_to_cart_order  reordered\n",
      "388292     871281        1935                NaN          1\n",
      "882397     871281        4756                NaN          1\n",
      "1814194    871281       45747                NaN          0\n",
      "2052455    871281       18150                NaN          1\n",
      "2305969    871281       16757                NaN          1\n",
      "2459684    871281       12576                NaN          0\n",
      "2693183    871281       33787                NaN          1\n",
      "2964070    871281       39947                NaN          0\n",
      "3070436    871281       20119                NaN          0\n",
      "3536441    871281       47087                NaN          1\n",
      "\n",
      "\n",
      "Pedido ID: 888470\n",
      "         order_id  product_id  add_to_cart_order  reordered\n",
      "2046296    888470       33780                NaN          0\n",
      "\n",
      "\n",
      "Pedido ID: 903110\n",
      "         order_id  product_id  add_to_cart_order  reordered\n",
      "102527     903110       41960                NaN          1\n",
      "250788     903110        2180                NaN          1\n",
      "723852     903110       48679                NaN          1\n",
      "954728     903110       10305                NaN          1\n",
      "1521451    903110       22328                NaN          1\n",
      "2171407    903110       23038                NaN          1\n",
      "2179870    903110       32689                NaN          0\n",
      "2691256    903110       30552                NaN          1\n",
      "3116928    903110        2964                NaN          1\n",
      "4129248    903110        4461                NaN          1\n",
      "\n",
      "\n",
      "Pedido ID: 936852\n",
      "         order_id  product_id  add_to_cart_order  reordered\n",
      "58228      936852       31373                NaN          1\n",
      "236073     936852       29926                NaN          1\n",
      "374842     936852       42768                NaN          1\n",
      "484635     936852       39560                NaN          1\n",
      "688247     936852        4410                NaN          1\n",
      "1154875    936852       31640                NaN          1\n",
      "1307864    936852       11193                NaN          1\n",
      "1572775    936852       43310                NaN          1\n",
      "1887836    936852        9550                NaN          1\n",
      "2023694    936852       32689                NaN          1\n",
      "2109800    936852       24737                NaN          1\n",
      "2534602    936852       39928                NaN          1\n",
      "2552658    936852       15438                NaN          1\n",
      "2672542    936852        6860                NaN          1\n",
      "2936908    936852       24810                NaN          1\n",
      "3487117    936852       39411                NaN          1\n",
      "3495525    936852          34                NaN          1\n",
      "3638983    936852       27521                NaN          1\n",
      "3764616    936852       47740                NaN          1\n",
      "3899160    936852       34310                NaN          1\n",
      "4079591    936852        7401                NaN          1\n",
      "4084466    936852       18362                NaN          1\n",
      "4399086    936852       14833                NaN          1\n",
      "\n",
      "\n",
      "Pedido ID: 1021563\n",
      "         order_id  product_id  add_to_cart_order  reordered\n",
      "502368    1021563       25461                NaN          0\n",
      "832206    1021563        9124                NaN          1\n",
      "1058994   1021563       24852                NaN          0\n",
      "1067487   1021563       33548                NaN          0\n",
      "1653762   1021563       26571                NaN          1\n",
      "1952319   1021563       27243                NaN          0\n",
      "2005436   1021563       49273                NaN          1\n",
      "2245653   1021563       46817                NaN          0\n",
      "2523151   1021563        5013                NaN          1\n",
      "\n",
      "\n",
      "Pedido ID: 1038146\n",
      "         order_id  product_id  add_to_cart_order  reordered\n",
      "137628    1038146       42110                NaN          1\n",
      "465478    1038146        1158                NaN          0\n",
      "693395    1038146       37158                NaN          0\n",
      "1167281   1038146         162                NaN          0\n",
      "1463117   1038146       46505                NaN          0\n",
      "1551832   1038146       29898                NaN          0\n",
      "\n",
      "\n",
      "Pedido ID: 1169835\n",
      "         order_id  product_id  add_to_cart_order  reordered\n",
      "238286    1169835       16656                NaN          0\n",
      "370608    1169835       29268                NaN          0\n",
      "1276324   1169835        7206                NaN          0\n",
      "2125970   1169835       10193                NaN          0\n",
      "4145154   1169835        1851                NaN          0\n",
      "\n",
      "\n",
      "Pedido ID: 1183255\n",
      "         order_id  product_id  add_to_cart_order  reordered\n",
      "1169121   1183255       34050                NaN          1\n",
      "1733912   1183255       32130                NaN          0\n",
      "2158716   1183255        1452                NaN          0\n",
      "2404304   1183255       14133                NaN          1\n",
      "2556849   1183255       16793                NaN          1\n",
      "3084209   1183255        1935                NaN          1\n",
      "3633046   1183255       36724                NaN          1\n",
      "3952357   1183255       30746                NaN          1\n",
      "4218477   1183255       23047                NaN          1\n",
      "4335860   1183255       46257                NaN          1\n",
      "4432852   1183255       33325                NaN          0\n",
      "\n",
      "\n",
      "Pedido ID: 1220886\n",
      "         order_id  product_id  add_to_cart_order  reordered\n",
      "560095    1220886        9390                NaN          0\n",
      "848316    1220886       49621                NaN          0\n",
      "915820    1220886        2228                NaN          0\n",
      "1625547   1220886       27966                NaN          0\n",
      "1892753   1220886       17948                NaN          0\n",
      "2898263   1220886       24489                NaN          0\n",
      "3979611   1220886       44449                NaN          0\n",
      "4027888   1220886       48974                NaN          0\n",
      "\n",
      "\n",
      "Pedido ID: 1302315\n",
      "         order_id  product_id  add_to_cart_order  reordered\n",
      "1692509   1302315       46257                NaN          0\n",
      "2413281   1302315       41771                NaN          1\n",
      "3190387   1302315       37951                NaN          0\n",
      "\n",
      "\n",
      "Pedido ID: 1308785\n",
      "         order_id  product_id  add_to_cart_order  reordered\n",
      "2281462   1308785       26836                NaN          1\n",
      "4362962   1308785       35724                NaN          0\n",
      "\n",
      "\n",
      "Pedido ID: 1386261\n",
      "         order_id  product_id  add_to_cart_order  reordered\n",
      "94722     1386261       41007                NaN          0\n",
      "285571    1386261       42846                NaN          0\n",
      "572254    1386261        8324                NaN          0\n",
      "651500    1386261       34635                NaN          1\n",
      "678125    1386261       12807                NaN          0\n",
      "1171299   1386261       42342                NaN          1\n",
      "1302400   1386261       45317                NaN          0\n",
      "1496587   1386261        2996                NaN          0\n",
      "1544360   1386261        1035                NaN          1\n",
      "2165935   1386261        8133                NaN          0\n",
      "2256279   1386261         365                NaN          0\n",
      "2414660   1386261       15598                NaN          0\n",
      "2586668   1386261       11421                NaN          0\n",
      "2875042   1386261       34942                NaN          0\n",
      "2980034   1386261       21288                NaN          0\n",
      "2994248   1386261       29454                NaN          0\n",
      "3412675   1386261       12312                NaN          0\n",
      "3433068   1386261       25069                NaN          0\n",
      "3512834   1386261       27772                NaN          0\n",
      "3590777   1386261          10                NaN          1\n",
      "3644543   1386261        2238                NaN          1\n",
      "3719634   1386261       48946                NaN          1\n",
      "4330748   1386261       10312                NaN          0\n",
      "4376706   1386261        8594                NaN          0\n",
      "4381473   1386261       30610                NaN          0\n",
      "4405705   1386261       32463                NaN          0\n",
      "4432922   1386261        8847                NaN          1\n",
      "\n",
      "\n",
      "Pedido ID: 1477139\n",
      "         order_id  product_id  add_to_cart_order  reordered\n",
      "443084    1477139        5818                NaN          1\n",
      "846464    1477139       24294                NaN          1\n",
      "3098497   1477139       24852                NaN          1\n",
      "4178106   1477139        7992                NaN          0\n",
      "\n",
      "\n",
      "Pedido ID: 1529171\n",
      "         order_id  product_id  add_to_cart_order  reordered\n",
      "3357079   1529171       23719                NaN          0\n",
      "3737090   1529171       44116                NaN          0\n",
      "\n",
      "\n",
      "Pedido ID: 1564093\n",
      "         order_id  product_id  add_to_cart_order  reordered\n",
      "67655     1564093        6139                NaN          0\n",
      "634335    1564093        7930                NaN          1\n",
      "1682903   1564093       47366                NaN          0\n",
      "3016467   1564093       26359                NaN          0\n",
      "3310417   1564093       40574                NaN          0\n",
      "\n",
      "\n",
      "Pedido ID: 1598369\n",
      "         order_id  product_id  add_to_cart_order  reordered\n",
      "1359666   1598369       19453                NaN          0\n",
      "\n",
      "\n",
      "Pedido ID: 1625713\n",
      "         order_id  product_id  add_to_cart_order  reordered\n",
      "3282194   1625713       20119                NaN          1\n",
      "4088121   1625713       14947                NaN          1\n",
      "\n",
      "\n",
      "Pedido ID: 1633337\n",
      "         order_id  product_id  add_to_cart_order  reordered\n",
      "831457    1633337       25630                NaN          0\n",
      "3678539   1633337       10017                NaN          0\n",
      "4511400   1633337         260                NaN          0\n",
      "\n",
      "\n",
      "Pedido ID: 1648217\n",
      "         order_id  product_id  add_to_cart_order  reordered\n",
      "430918    1648217       48946                NaN          1\n",
      "850099    1648217       40731                NaN          1\n",
      "1112225   1648217        7521                NaN          1\n",
      "1242285   1648217       38264                NaN          0\n",
      "1886932   1648217       11777                NaN          1\n",
      "2187176   1648217       49111                NaN          1\n",
      "\n",
      "\n",
      "Pedido ID: 1673227\n",
      "         order_id  product_id  add_to_cart_order  reordered\n",
      "642353    1673227       21230                NaN          0\n",
      "829277    1673227       11193                NaN          0\n",
      "1249443   1673227       14378                NaN          0\n",
      "2047375   1673227       10724                NaN          0\n",
      "2320227   1673227       19182                NaN          0\n",
      "2368328   1673227       16730                NaN          0\n",
      "2605464   1673227       29926                NaN          0\n",
      "2772216   1673227       33320                NaN          0\n",
      "3086719   1673227       15399                NaN          0\n",
      "3129846   1673227       29370                NaN          1\n",
      "3377031   1673227       48010                NaN          0\n",
      "4081508   1673227       25513                NaN          0\n",
      "4084518   1673227       18281                NaN          0\n",
      "4534112   1673227       17835                NaN          0\n",
      "\n",
      "\n",
      "Pedido ID: 1677118\n",
      "        order_id  product_id  add_to_cart_order  reordered\n",
      "921753   1677118       13516                NaN          1\n",
      "\n",
      "\n",
      "Pedido ID: 1713430\n",
      "         order_id  product_id  add_to_cart_order  reordered\n",
      "1181413   1713430        4634                NaN          0\n",
      "1318059   1713430       46720                NaN          0\n",
      "3782487   1713430        4855                NaN          1\n",
      "\n",
      "\n",
      "Pedido ID: 1717990\n",
      "         order_id  product_id  add_to_cart_order  reordered\n",
      "16418     1717990        4142                NaN          0\n",
      "64336     1717990       39408                NaN          0\n",
      "392794    1717990       27555                NaN          1\n",
      "453812    1717990        5450                NaN          0\n",
      "454403    1717990        9604                NaN          0\n",
      "455854    1717990       20073                NaN          1\n",
      "895008    1717990       39928                NaN          1\n",
      "1203171   1717990       45603                NaN          0\n",
      "1224638   1717990       33055                NaN          1\n",
      "1300855   1717990       37646                NaN          0\n",
      "1520396   1717990       30776                NaN          1\n",
      "2301158   1717990       43352                NaN          0\n",
      "2332300   1717990        1710                NaN          1\n",
      "2637429   1717990       48559                NaN          0\n",
      "2828236   1717990       39448                NaN          1\n",
      "2982614   1717990       37766                NaN          1\n",
      "3227168   1717990        4920                NaN          1\n",
      "3543181   1717990       41774                NaN          0\n",
      "3883178   1717990       26209                NaN          1\n",
      "4194693   1717990        5876                NaN          1\n",
      "4270574   1717990       13712                NaN          1\n",
      "4346034   1717990        3198                NaN          0\n",
      "\n",
      "\n",
      "Pedido ID: 1730767\n",
      "         order_id  product_id  add_to_cart_order  reordered\n",
      "237301    1730767       36316                NaN          1\n",
      "490395    1730767        4656                NaN          0\n",
      "926830    1730767       20396                NaN          0\n",
      "930310    1730767       35004                NaN          0\n",
      "1011167   1730767        9531                NaN          0\n",
      "1187967   1730767        8555                NaN          0\n",
      "1376325   1730767       20114                NaN          1\n",
      "1388246   1730767       39561                NaN          1\n",
      "1648549   1730767        2091                NaN          1\n",
      "1661800   1730767       30391                NaN          0\n",
      "1726184   1730767       43735                NaN          0\n",
      "1739943   1730767        4431                NaN          1\n",
      "1845117   1730767       21376                NaN          1\n",
      "2061093   1730767       13554                NaN          1\n",
      "2104742   1730767       41065                NaN          0\n",
      "2126292   1730767       24265                NaN          1\n",
      "2201066   1730767       28380                NaN          0\n",
      "2203976   1730767       39877                NaN          1\n",
      "2305028   1730767       24184                NaN          1\n",
      "2558012   1730767         663                NaN          0\n",
      "3024253   1730767       27555                NaN          0\n",
      "3108075   1730767       13535                NaN          1\n",
      "3231867   1730767       31282                NaN          0\n",
      "3280063   1730767       18941                NaN          1\n",
      "3613589   1730767       46990                NaN          1\n",
      "3674884   1730767        4461                NaN          1\n",
      "3763402   1730767       38456                NaN          1\n",
      "3872090   1730767       35696                NaN          1\n",
      "4108164   1730767       28199                NaN          0\n",
      "4184594   1730767       31553                NaN          1\n",
      "4269955   1730767       24964                NaN          1\n",
      "\n",
      "\n",
      "Pedido ID: 1800005\n",
      "         order_id  product_id  add_to_cart_order  reordered\n",
      "372958    1800005        2309                NaN          0\n",
      "712189    1800005       32035                NaN          0\n",
      "773685    1800005       33320                NaN          0\n",
      "844289    1800005       39623                NaN          0\n",
      "1120168   1800005         682                NaN          0\n",
      "1319572   1800005        9955                NaN          0\n",
      "1458986   1800005       46346                NaN          0\n",
      "1498998   1800005       32850                NaN          0\n",
      "1601892   1800005        7622                NaN          0\n",
      "1633323   1800005       34584                NaN          0\n",
      "2014358   1800005        9531                NaN          0\n",
      "2054132   1800005       22671                NaN          0\n",
      "2264625   1800005       33216                NaN          0\n",
      "2282078   1800005       37203                NaN          0\n",
      "2336425   1800005        8952                NaN          0\n",
      "2453985   1800005       12385                NaN          0\n",
      "2561730   1800005       48778                NaN          0\n",
      "2594393   1800005       43263                NaN          0\n",
      "2712384   1800005       10082                NaN          0\n",
      "2744369   1800005          79                NaN          0\n",
      "3294285   1800005         160                NaN          0\n",
      "3399633   1800005       21614                NaN          0\n",
      "3424318   1800005       46900                NaN          0\n",
      "3535079   1800005       25691                NaN          0\n",
      "4013870   1800005        1757                NaN          0\n",
      "4103809   1800005        3233                NaN          0\n",
      "4222813   1800005       45116                NaN          0\n",
      "4505662   1800005        7411                NaN          0\n",
      "\n",
      "\n",
      "Pedido ID: 1832957\n",
      "         order_id  product_id  add_to_cart_order  reordered\n",
      "503789    1832957       42710                NaN          1\n",
      "747083    1832957       33754                NaN          1\n",
      "863020    1832957        5322                NaN          1\n",
      "1000255   1832957       11777                NaN          1\n",
      "1047840   1832957       13176                NaN          1\n",
      "1075379   1832957       27966                NaN          1\n",
      "1170413   1832957       22035                NaN          1\n",
      "1970439   1832957       33370                NaN          1\n",
      "2617464   1832957       10424                NaN          0\n",
      "2721847   1832957       21137                NaN          1\n",
      "3945473   1832957        8277                NaN          1\n",
      "4390206   1832957       19348                NaN          1\n",
      "4497511   1832957        5438                NaN          1\n",
      "4535739   1832957       17949                NaN          1\n",
      "\n",
      "\n",
      "Pedido ID: 1888628\n",
      "         order_id  product_id  add_to_cart_order  reordered\n",
      "120294    1888628        5621                NaN          0\n",
      "701953    1888628       18382                NaN          0\n",
      "1435813   1888628       14401                NaN          1\n",
      "1634517   1888628       19628                NaN          0\n",
      "1693885   1888628       37788                NaN          1\n",
      "3008374   1888628       46175                NaN          1\n",
      "3280243   1888628       21653                NaN          0\n",
      "3393290   1888628        8021                NaN          0\n",
      "4184517   1888628       31801                NaN          1\n",
      "4482501   1888628       41665                NaN          0\n",
      "\n",
      "\n",
      "Pedido ID: 1916118\n",
      "         order_id  product_id  add_to_cart_order  reordered\n",
      "1387181   1916118       11755                NaN          0\n",
      "3327607   1916118       21125                NaN          0\n",
      "4273367   1916118        9324                NaN          1\n",
      "\n",
      "\n",
      "Pedido ID: 1959075\n",
      "         order_id  product_id  add_to_cart_order  reordered\n",
      "30114     1959075       42828                NaN          1\n",
      "410035    1959075       43182                NaN          1\n",
      "452071    1959075        8736                NaN          1\n",
      "505426    1959075       47740                NaN          1\n",
      "551504    1959075       15693                NaN          1\n",
      "583941    1959075       11422                NaN          1\n",
      "654572    1959075       40571                NaN          1\n",
      "1071614   1959075       18362                NaN          1\n",
      "1106546   1959075       22993                NaN          1\n",
      "1133770   1959075        4957                NaN          1\n",
      "1470461   1959075       34310                NaN          1\n",
      "1697587   1959075       11193                NaN          1\n",
      "1896630   1959075       16241                NaN          1\n",
      "2112642   1959075       33401                NaN          1\n",
      "2230822   1959075       13176                NaN          1\n",
      "2336744   1959075       33754                NaN          1\n",
      "2432733   1959075       15438                NaN          1\n",
      "2865123   1959075        7485                NaN          1\n",
      "2918875   1959075       28071                NaN          1\n",
      "3047341   1959075        9550                NaN          1\n",
      "3066664   1959075       30726                NaN          1\n",
      "3141023   1959075       44632                NaN          1\n",
      "3314274   1959075       26620                NaN          1\n",
      "3368363   1959075       39411                NaN          1\n",
      "3542252   1959075       10753                NaN          1\n",
      "3692008   1959075       45842                NaN          1\n",
      "3773349   1959075       37188                NaN          1\n",
      "3787831   1959075        4410                NaN          1\n",
      "4141071   1959075       18606                NaN          1\n",
      "4167410   1959075       34128                NaN          1\n",
      "4184654   1959075        6860                NaN          1\n",
      "4278310   1959075       30489                NaN          1\n",
      "4389640   1959075       24838                NaN          1\n",
      "4411093   1959075        5785                NaN          1\n",
      "\n",
      "\n",
      "Pedido ID: 1961723\n",
      "         order_id  product_id  add_to_cart_order  reordered\n",
      "373006    1961723       31575                NaN          0\n",
      "616873    1961723       15405                NaN          0\n",
      "2376645   1961723       41541                NaN          0\n",
      "3306682   1961723        3849                NaN          0\n",
      "3655316   1961723       44734                NaN          0\n",
      "3942065   1961723       21143                NaN          0\n",
      "3950033   1961723       46724                NaN          0\n",
      "4393921   1961723        7926                NaN          0\n",
      "4501669   1961723       18873                NaN          0\n",
      "\n",
      "\n",
      "Pedido ID: 1968313\n",
      "         order_id  product_id  add_to_cart_order  reordered\n",
      "9926      1968313       43867                NaN          0\n",
      "251111    1968313       23995                NaN          1\n",
      "523251    1968313       25824                NaN          0\n",
      "712578    1968313       42625                NaN          0\n",
      "1214262   1968313        9327                NaN          0\n",
      "1244299   1968313       11577                NaN          0\n",
      "1309886   1968313        2541                NaN          0\n",
      "2550341   1968313       28232                NaN          0\n",
      "3217453   1968313       49644                NaN          0\n",
      "3219261   1968313       41302                NaN          0\n",
      "3542553   1968313       48443                NaN          0\n",
      "3719154   1968313       41593                NaN          0\n",
      "3888634   1968313       29382                NaN          0\n",
      "4020321   1968313       23180                NaN          0\n",
      "4376957   1968313        5605                NaN          0\n",
      "4443007   1968313       22497                NaN          0\n",
      "\n",
      "\n",
      "Pedido ID: 2094761\n",
      "         order_id  product_id  add_to_cart_order  reordered\n",
      "130034    2094761        5194                NaN          1\n",
      "644239    2094761       47888                NaN          1\n",
      "782948    2094761       17545                NaN          1\n",
      "1120877   2094761         812                NaN          1\n",
      "1420876   2094761       47862                NaN          0\n",
      "1967051   2094761        1099                NaN          0\n",
      "2175085   2094761       49227                NaN          0\n",
      "2846497   2094761        5112                NaN          1\n",
      "3300473   2094761       41259                NaN          0\n",
      "\n",
      "\n",
      "Pedido ID: 2136777\n",
      "         order_id  product_id  add_to_cart_order  reordered\n",
      "103410    2136777       46886                NaN          1\n",
      "137958    2136777       45106                NaN          0\n",
      "170487    2136777        2635                NaN          1\n",
      "260575    2136777        6651                NaN          0\n",
      "813922    2136777       31404                NaN          1\n",
      "825826    2136777       42342                NaN          0\n",
      "944029    2136777        3717                NaN          0\n",
      "951079    2136777       46321                NaN          0\n",
      "1113858   2136777       10849                NaN          0\n",
      "1195908   2136777       17183                NaN          1\n",
      "1231729   2136777       37658                NaN          0\n",
      "1329507   2136777       29871                NaN          0\n",
      "1627119   2136777       12950                NaN          0\n",
      "1641832   2136777        5194                NaN          0\n",
      "1705076   2136777        1700                NaN          0\n",
      "1755402   2136777       45537                NaN          0\n",
      "1943851   2136777       40199                NaN          0\n",
      "2300379   2136777       23645                NaN          1\n",
      "2329561   2136777       28458                NaN          0\n",
      "2362559   2136777       10991                NaN          0\n",
      "2412419   2136777       15740                NaN          1\n",
      "2428773   2136777       29651                NaN          1\n",
      "2554960   2136777       35227                NaN          0\n",
      "2555334   2136777        1804                NaN          1\n",
      "2781179   2136777       34993                NaN          1\n",
      "2873944   2136777       46820                NaN          1\n",
      "2880708   2136777       18370                NaN          0\n",
      "2907101   2136777       16757                NaN          1\n",
      "2920440   2136777       42265                NaN          0\n",
      "3005100   2136777        3988                NaN          1\n",
      "3023524   2136777       36724                NaN          1\n",
      "3235336   2136777       37788                NaN          1\n",
      "3261639   2136777       26431                NaN          0\n",
      "3286269   2136777        4981                NaN          0\n",
      "3433886   2136777        2913                NaN          0\n",
      "3601140   2136777        4472                NaN          1\n",
      "3626645   2136777        9407                NaN          0\n",
      "3721041   2136777       34050                NaN          0\n",
      "3837965   2136777       11193                NaN          1\n",
      "4026278   2136777       41198                NaN          0\n",
      "4099225   2136777       17038                NaN          1\n",
      "4131493   2136777       11794                NaN          0\n",
      "4248342   2136777        5883                NaN          0\n",
      "4446877   2136777       42193                NaN          0\n",
      "\n",
      "\n",
      "Pedido ID: 2170451\n",
      "         order_id  product_id  add_to_cart_order  reordered\n",
      "2438301   2170451       16965                NaN          1\n",
      "\n",
      "\n",
      "Pedido ID: 2256933\n",
      "         order_id  product_id  add_to_cart_order  reordered\n",
      "182090    2256933       13457                NaN          1\n",
      "515010    2256933       10863                NaN          1\n",
      "1151056   2256933       40724                NaN          0\n",
      "1169644   2256933       36922                NaN          0\n",
      "1897363   2256933       31448                NaN          1\n",
      "2512081   2256933       17619                NaN          0\n",
      "3362063   2256933        6765                NaN          0\n",
      "\n",
      "\n",
      "Pedido ID: 2409109\n",
      "         order_id  product_id  add_to_cart_order  reordered\n",
      "210094    2409109       26587                NaN          0\n",
      "1790648   2409109         516                NaN          0\n",
      "2234898   2409109       27676                NaN          0\n",
      "3928984   2409109       36180                NaN          0\n",
      "4210154   2409109       21795                NaN          0\n",
      "\n",
      "\n",
      "Pedido ID: 2449164\n",
      "         order_id  product_id  add_to_cart_order  reordered\n",
      "737       2449164        5068                NaN          0\n",
      "128360    2449164       14386                NaN          0\n",
      "193859    2449164        8518                NaN          0\n",
      "715695    2449164       29311                NaN          0\n",
      "1412828   2449164       42356                NaN          0\n",
      "2131765   2449164       24009                NaN          0\n",
      "2271407   2449164       40584                NaN          0\n",
      "2887452   2449164       46969                NaN          1\n",
      "3373025   2449164       49323                NaN          0\n",
      "3799063   2449164       31562                NaN          0\n",
      "4407623   2449164        4920                NaN          1\n",
      "4423417   2449164       35912                NaN          0\n",
      "\n",
      "\n",
      "Pedido ID: 2470674\n",
      "         order_id  product_id  add_to_cart_order  reordered\n",
      "846954    2470674       46845                NaN          0\n",
      "848750    2470674       20564                NaN          0\n",
      "1502876   2470674       49188                NaN          0\n",
      "1514664   2470674       35004                NaN          0\n",
      "2151691   2470674       40469                NaN          0\n",
      "2955999   2470674       25824                NaN          1\n",
      "3411797   2470674        8509                NaN          0\n",
      "\n",
      "\n",
      "Pedido ID: 2479011\n",
      "         order_id  product_id  add_to_cart_order  reordered\n",
      "1028261   2479011       23888                NaN          1\n",
      "1409938   2479011       46513                NaN          1\n",
      "2195983   2479011       31764                NaN          1\n",
      "2566866   2479011        7388                NaN          1\n",
      "2724564   2479011       26830                NaN          1\n",
      "3146462   2479011       17617                NaN          1\n",
      "3380579   2479011       42183                NaN          1\n",
      "4185903   2479011       30764                NaN          1\n",
      "4471085   2479011       40501                NaN          1\n",
      "\n",
      "\n",
      "Pedido ID: 2621907\n",
      "         order_id  product_id  add_to_cart_order  reordered\n",
      "2093506   2621907         810                NaN          0\n",
      "\n",
      "\n",
      "Pedido ID: 2625444\n",
      "         order_id  product_id  add_to_cart_order  reordered\n",
      "875978    2625444       34516                NaN          0\n",
      "3158088   2625444       31043                NaN          0\n",
      "4365834   2625444        3096                NaN          0\n",
      "\n",
      "\n",
      "Pedido ID: 2652650\n",
      "         order_id  product_id  add_to_cart_order  reordered\n",
      "1245116   2652650       25124                NaN          0\n",
      "\n",
      "\n",
      "Pedido ID: 2721963\n",
      "         order_id  product_id  add_to_cart_order  reordered\n",
      "530720    2721963       44596                NaN          1\n",
      "618153    2721963       27900                NaN          0\n",
      "803970    2721963       34126                NaN          1\n",
      "865908    2721963       14150                NaN          0\n",
      "1661040   2721963       16616                NaN          0\n",
      "1740780   2721963       40406                NaN          0\n",
      "1784785   2721963       47209                NaN          1\n",
      "2471124   2721963        1646                NaN          0\n",
      "2967216   2721963       33043                NaN          1\n",
      "3002808   2721963        5322                NaN          0\n",
      "3025497   2721963        2344                NaN          0\n",
      "3038045   2721963       48925                NaN          0\n",
      "3152506   2721963       33156                NaN          0\n",
      "3188954   2721963       16848                NaN          0\n",
      "3246520   2721963       17224                NaN          0\n",
      "3265654   2721963       21227                NaN          0\n",
      "3418953   2721963       47222                NaN          0\n",
      "3613118   2721963       22935                NaN          1\n",
      "3737315   2721963       23236                NaN          1\n",
      "4011424   2721963        9178                NaN          0\n",
      "4172298   2721963        8518                NaN          1\n",
      "4188637   2721963       38383                NaN          1\n",
      "\n",
      "\n",
      "Pedido ID: 2729254\n",
      "         order_id  product_id  add_to_cart_order  reordered\n",
      "2363696   2729254       41888                NaN          0\n",
      "\n",
      "\n",
      "Pedido ID: 2849370\n",
      "         order_id  product_id  add_to_cart_order  reordered\n",
      "86905     2849370       37131                NaN          0\n",
      "379443    2849370       34126                NaN          0\n",
      "866856    2849370       21174                NaN          1\n",
      "982439    2849370       46667                NaN          1\n",
      "1253326   2849370       24964                NaN          1\n",
      "1686341   2849370       21903                NaN          1\n",
      "1824939   2849370       41950                NaN          1\n",
      "1891160   2849370        4605                NaN          1\n",
      "2414819   2849370        8518                NaN          0\n",
      "3025432   2849370       20114                NaN          1\n",
      "3092099   2849370       15649                NaN          1\n",
      "\n",
      "\n",
      "Pedido ID: 2926893\n",
      "         order_id  product_id  add_to_cart_order  reordered\n",
      "14394     2926893       11688                NaN          0\n",
      "235998    2926893        4792                NaN          0\n",
      "261824    2926893       26629                NaN          0\n",
      "491585    2926893       21405                NaN          1\n",
      "757127    2926893          34                NaN          0\n",
      "814253    2926893        1208                NaN          0\n",
      "1091784   2926893       35749                NaN          0\n",
      "1133456   2926893       25587                NaN          0\n",
      "1356591   2926893       27663                NaN          0\n",
      "1513850   2926893       29627                NaN          0\n",
      "1930438   2926893        6187                NaN          0\n",
      "1938823   2926893         691                NaN          0\n",
      "2127506   2926893       34220                NaN          0\n",
      "2219826   2926893       19894                NaN          1\n",
      "2237273   2926893        2078                NaN          0\n",
      "2262201   2926893        8033                NaN          0\n",
      "2288299   2926893       45603                NaN          1\n",
      "2498644   2926893        5250                NaN          0\n",
      "2532565   2926893       21953                NaN          0\n",
      "2611006   2926893        8736                NaN          0\n",
      "2612611   2926893       42611                NaN          0\n",
      "3139038   2926893       20794                NaN          1\n",
      "3140858   2926893       34221                NaN          0\n",
      "3197335   2926893       22227                NaN          0\n",
      "3423291   2926893       44740                NaN          0\n",
      "3647758   2926893       33716                NaN          0\n",
      "3768802   2926893       33000                NaN          0\n",
      "3931006   2926893        6287                NaN          1\n",
      "\n",
      "\n",
      "Pedido ID: 2979697\n",
      "         order_id  product_id  add_to_cart_order  reordered\n",
      "3275635   2979697       34262                NaN          0\n",
      "4475851   2979697       15700                NaN          0\n",
      "\n",
      "\n",
      "Pedido ID: 2997021\n",
      "         order_id  product_id  add_to_cart_order  reordered\n",
      "144645    2997021       29418                NaN          0\n",
      "1366404   2997021        4896                NaN          0\n",
      "1524433   2997021       38766                NaN          0\n",
      "3346495   2997021        2476                NaN          0\n",
      "\n",
      "\n",
      "Pedido ID: 2999801\n",
      "         order_id  product_id  add_to_cart_order  reordered\n",
      "690794    2999801       29627                NaN          1\n",
      "1295883   2999801       47366                NaN          1\n",
      "1878498   2999801       19849                NaN          1\n",
      "2639769   2999801       22220                NaN          1\n",
      "3733118   2999801        9604                NaN          0\n",
      "3965473   2999801        1710                NaN          0\n",
      "\n",
      "\n",
      "Pedido ID: 3125735\n",
      "         order_id  product_id  add_to_cart_order  reordered\n",
      "344501    3125735       39322                NaN          1\n",
      "403569    3125735        5161                NaN          1\n",
      "429636    3125735       39781                NaN          1\n",
      "432736    3125735       29864                NaN          0\n",
      "548799    3125735       12192                NaN          0\n",
      "658399    3125735       30901                NaN          0\n",
      "721401    3125735       17224                NaN          1\n",
      "1420474   3125735       34942                NaN          1\n",
      "1440596   3125735        5547                NaN          1\n",
      "1842014   3125735       18150                NaN          1\n",
      "1889291   3125735       32701                NaN          1\n",
      "1991103   3125735       45866                NaN          1\n",
      "2229178   3125735       26634                NaN          1\n",
      "2463017   3125735        3988                NaN          1\n",
      "2972261   3125735        4756                NaN          1\n",
      "3040020   3125735       26856                NaN          1\n",
      "3418468   3125735        1935                NaN          1\n",
      "3538348   3125735       17974                NaN          1\n",
      "3617101   3125735       40709                NaN          1\n",
      "3981012   3125735       47658                NaN          0\n",
      "4142872   3125735        6489                NaN          1\n",
      "4276974   3125735       46229                NaN          1\n",
      "\n",
      "\n",
      "Pedido ID: 3308010\n",
      "         order_id  product_id  add_to_cart_order  reordered\n",
      "98839     3308010        5438                NaN          1\n",
      "367467    3308010       37029                NaN          1\n",
      "380315    3308010       34590                NaN          1\n",
      "474327    3308010       30776                NaN          1\n",
      "594894    3308010       41222                NaN          1\n",
      "613414    3308010       29238                NaN          1\n",
      "630756    3308010       39450                NaN          1\n",
      "676422    3308010       43234                NaN          1\n",
      "712924    3308010       14766                NaN          1\n",
      "755629    3308010       40199                NaN          1\n",
      "1145622   3308010       31801                NaN          1\n",
      "1162827   3308010       12741                NaN          1\n",
      "1197216   3308010       33198                NaN          1\n",
      "1260501   3308010       33929                NaN          1\n",
      "1283609   3308010       40709                NaN          1\n",
      "1402310   3308010       11576                NaN          1\n",
      "1492532   3308010        4297                NaN          1\n",
      "1517269   3308010       13870                NaN          1\n",
      "1539650   3308010       39168                NaN          1\n",
      "1556527   3308010       48109                NaN          1\n",
      "1683810   3308010       12686                NaN          1\n",
      "1688162   3308010       46321                NaN          1\n",
      "1715641   3308010       22035                NaN          1\n",
      "1770557   3308010       13702                NaN          1\n",
      "1950839   3308010        5708                NaN          0\n",
      "2022179   3308010       39322                NaN          1\n",
      "2059460   3308010       33325                NaN          1\n",
      "2136150   3308010       29270                NaN          1\n",
      "2261370   3308010       21019                NaN          1\n",
      "2278861   3308010       16290                NaN          1\n",
      "2303924   3308010       20103                NaN          1\n",
      "2429133   3308010        4920                NaN          1\n",
      "2610617   3308010       18564                NaN          1\n",
      "2665940   3308010       45279                NaN          1\n",
      "2670765   3308010       28398                NaN          1\n",
      "2706554   3308010       36192                NaN          1\n",
      "2742623   3308010       23645                NaN          1\n",
      "2780430   3308010       21137                NaN          1\n",
      "2893831   3308010       43772                NaN          1\n",
      "2948601   3308010       17706                NaN          1\n",
      "2974067   3308010       42265                NaN          1\n",
      "3125922   3308010        7539                NaN          1\n",
      "3355181   3308010       22317                NaN          1\n",
      "3473063   3308010       29871                NaN          1\n",
      "3546955   3308010       25013                NaN          1\n",
      "3828198   3308010       22220                NaN          1\n",
      "3871271   3308010       10840                NaN          1\n",
      "3886173   3308010       46853                NaN          1\n",
      "4161503   3308010       14242                NaN          1\n",
      "4186580   3308010       34281                NaN          1\n",
      "4453066   3308010       41844                NaN          1\n",
      "\n",
      "\n",
      "Pedido ID: 3347453\n",
      "         order_id  product_id  add_to_cart_order  reordered\n",
      "110274    3347453       47175                NaN          0\n",
      "137029    3347453       30727                NaN          0\n",
      "219403    3347453       18782                NaN          0\n",
      "477116    3347453       19443                NaN          0\n",
      "2666635   3347453       14183                NaN          0\n",
      "3151820   3347453       19309                NaN          0\n",
      "4294367   3347453       20876                NaN          0\n",
      "\n",
      "\n",
      "Pedido ID: 3383594\n",
      "         order_id  product_id  add_to_cart_order  reordered\n",
      "1038616   3383594       15424                NaN          1\n",
      "1537276   3383594       15076                NaN          0\n",
      "2772397   3383594       46710                NaN          0\n",
      "3760909   3383594          63                NaN          0\n",
      "3784932   3383594       49144                NaN          1\n",
      "\n",
      "\n"
     ]
    },
    {
     "name": "stdout",
     "output_type": "stream",
     "text": [
      "Valor mínimo del conteo de productos por pedido: 1\n"
     ]
    }
   ],
   "source": [
    "# ¿Todos los pedidos con valores ausentes tienen más de 64 productos?\n",
    "missing_add_to_cart_order = order_products[order_products['add_to_cart_order'].isna()]\n",
    "products_count_in_missing_orders = missing_add_to_cart_order.groupby('order_id')['product_id'].count()\n",
    "orders_with_more_than_64_products = products_count_in_missing_orders[products_count_in_missing_orders > 64]\n",
    "print(f\"Total de pedidos con valores ausentes: {len(missing_add_to_cart_order['order_id'].unique())}\")\n",
    "print(f\"Pedidos con valores ausentes que tienen más de 64 productos: {len(orders_with_more_than_64_products)}\")\n",
    "print(f\"Pedidos con valores ausentes que tienen más de 64 productos:\\n{orders_with_more_than_64_products}\")\n",
    "                                                                     \n",
    "                                                                     \n",
    "# Agrupa todos los pedidos con datos ausentes por su ID de pedido.\n",
    "grouped_missing_orders = missing_add_to_cart_order.groupby('order_id')\n",
    "for order_id, group in grouped_missing_orders:\n",
    "    print(f\"Pedido ID: {order_id}\")\n",
    "    print(group)\n",
    "    print(\"\\n\")\n",
    "\n",
    "# Cuenta el número de 'product_id' en cada pedido y revisa el valor mínimo del conteo.\n",
    "\n",
    "product_count_per_order = order_products.groupby('order_id')['product_id'].count()\n",
    "min_product_count = product_count_per_order.min()\n",
    "print(f\"Valor mínimo del conteo de productos por pedido: {min_product_count}\")\n"
   ]
  },
  {
   "cell_type": "markdown",
   "id": "p9V6pddtjglj",
   "metadata": {
    "id": "p9V6pddtjglj"
   },
   "source": [
    "Describe brevemente cuáles son tus hallazgos.\n",
    "\n",
    "Encontramos valores ausentes en la columna add_to_cart_order, los cuales requieren atención para asegurar la integridad de los datos.\n",
    "Hemos identificado y agrupado las IDs de pedidos que tienen valores ausentes en la columna add_to_cart_order.\n",
    "\n"
   ]
  },
  {
   "cell_type": "code",
   "execution_count": 105,
   "id": "7a987d08",
   "metadata": {
    "id": "7a987d08"
   },
   "outputs": [
    {
     "name": "stdout",
     "output_type": "stream",
     "text": [
      "<class 'pandas.core.frame.DataFrame'>\n",
      "RangeIndex: 4545007 entries, 0 to 4545006\n",
      "Data columns (total 4 columns):\n",
      " #   Column             Dtype\n",
      "---  ------             -----\n",
      " 0   order_id           int64\n",
      " 1   product_id         int64\n",
      " 2   add_to_cart_order  int64\n",
      " 3   reordered          int64\n",
      "dtypes: int64(4)\n",
      "memory usage: 138.7 MB\n",
      "None\n"
     ]
    }
   ],
   "source": [
    "# Remplaza los valores ausentes en la columna 'add_to_cart? con 999 y convierte la columna al tipo entero.\n",
    "order_products['add_to_cart_order'].fillna(999, inplace=True)\n",
    "# Convertir la columna 'add_to_cart_order' al tipo entero\n",
    "\n",
    "order_products['add_to_cart_order'] = order_products['add_to_cart_order'].astype(int)\n",
    "print(order_products.info())\n"
   ]
  },
  {
   "cell_type": "markdown",
   "id": "fea4bcc7",
   "metadata": {
    "id": "fea4bcc7"
   },
   "source": [
    "Describe brevemente tus hallazgos y lo que hiciste con ellos.\n",
    "Encontramos valores ausentes en la columna add_to_cart_order del DataFrame order_products.\n",
    "Reemplazamos los valores ausentes con 999 y convertimos la columna al tipo entero para mantener la consistencia de los datos."
   ]
  },
  {
   "cell_type": "markdown",
   "id": "RnplPFY1gSrb",
   "metadata": {
    "id": "RnplPFY1gSrb"
   },
   "source": [
    "## Conclusiones\n",
    "\n",
    "Escribe aquí tus conclusiones intermedias sobre el Paso 2. Preprocesamiento de los datos\n",
    "Verificaron  y corrigeron algunos tipos de datos\n",
    "Identifica y completa los valores ausentes, y se sustituyen por los valores que me indicaron.\n",
    "Se Identificaron y eliminaron  los valores duplicados que ameritaban eliminarse.\n"
   ]
  },
  {
   "cell_type": "markdown",
   "id": "247a8c03",
   "metadata": {},
   "source": [
    "<div class=\"alert alert-block alert-success\">\n",
    "<b>Comentario del revisor (1ra Iteración)</b> <a class=“tocSkip”></a>\n",
    "\n",
    "Excelente trabajo con los datos faltantes, es importante saber interpretar su naturaleza y lo que siginifican en el contexto del proyecto. Más adelante aprenderás técnicas avanzadas de manejo de este tipo de datos.\n",
    "\n",
    "</div>"
   ]
  },
  {
   "cell_type": "markdown",
   "id": "UjrOIwTcz3ri",
   "metadata": {
    "id": "UjrOIwTcz3ri"
   },
   "source": [
    "# Paso 3. Análisis de los datos\n",
    "\n",
    "Una vez los datos estén procesados y listos, haz el siguiente análisis:"
   ]
  },
  {
   "cell_type": "markdown",
   "id": "turkish-kidney",
   "metadata": {
    "id": "turkish-kidney"
   },
   "source": [
    "# [A] Fácil (deben completarse todos para aprobar)\n",
    "\n",
    "1. Verifica que los valores en las columnas `'order_hour_of_day'` y `'order_dow'` en la tabla orders sean razonables (es decir, `'order_hour_of_day'` oscile entre 0 y 23 y `'order_dow'` oscile entre 0 y 6).\n",
    "2. Crea un gráfico que muestre el número de personas que hacen pedidos dependiendo de la hora del día.\n",
    "3. Crea un gráfico que muestre qué día de la semana la gente hace sus compras.\n",
    "4. Crea un gráfico que muestre el tiempo que la gente espera hasta hacer su siguiente pedido, y comenta sobre los valores mínimos y máximos."
   ]
  },
  {
   "cell_type": "markdown",
   "id": "short-capability",
   "metadata": {
    "id": "short-capability"
   },
   "source": [
    "### [A1] Verifica que los valores sean sensibles"
   ]
  },
  {
   "cell_type": "code",
   "execution_count": 106,
   "id": "growing-fruit",
   "metadata": {
    "id": "growing-fruit"
   },
   "outputs": [
    {
     "name": "stdout",
     "output_type": "stream",
     "text": [
      "Total de valores inválidos en 'order_hour_of_day': 0\n"
     ]
    }
   ],
   "source": [
    "# Verificar que 'order_hour_of_day' oscile entre 0 y 23\n",
    "valores_invalidos_hour = instacart_orders[(instacart_orders['order_hour_of_day'] < 0) | (instacart_orders['order_hour_of_day'] > 23)]\n",
    "print(f\"Total de valores inválidos en 'order_hour_of_day': {valores_invalidos_hour.shape[0]}\")\n",
    "if not valores_invalidos_hour.empty:\n",
    "   print(\"Valores inválidos en 'order_hour_of_day':\")\n",
    "   print(valores_invalidos_hour)\n",
    "    \n"
   ]
  },
  {
   "cell_type": "code",
   "execution_count": 108,
   "id": "accessory-malaysia",
   "metadata": {
    "id": "accessory-malaysia"
   },
   "outputs": [
    {
     "name": "stdout",
     "output_type": "stream",
     "text": [
      "Total de valores inválidos en 'order_dow': 0\n"
     ]
    }
   ],
   "source": [
    "# Verificar que 'order_dow' oscile entre 0 y 6\n",
    "valores_invalidos_dow = instacart_orders[(instacart_orders['order_dow'] < 0) | (instacart_orders['order_dow'] > 6)]\n",
    "print(f\"Total de valores inválidos en 'order_dow': {valores_invalidos_dow.shape[0]}\")\n",
    "if not valores_invalidos_dow.empty:\n",
    "   print(\"Valores inválidos en 'order_dow':\")\n",
    "   print(valores_invalidos_dow) \n"
   ]
  },
  {
   "cell_type": "markdown",
   "id": "hmR2GNQ6lCsX",
   "metadata": {
    "id": "hmR2GNQ6lCsX"
   },
   "source": [
    "Escribe aquí tus conclusiones\n",
    "Eso significa que todos los valores en la columna order_hour_of_day son razonables y están dentro del rango esperado (0-23).\n",
    "Eso significa que tanto los valores en la columna order_hour_of_day como en la columna order_dow están dentro de los rangos esperados y son razonables\n",
    "\n",
    "Resumen de la Verificación:\n",
    "order_hour_of_day: Todos los valores están entre 0 y 23.\n",
    "\n",
    "order_dow: Todos los valores están entre 0 y 6.\n",
    "\n",
    "Tus datos están en buen estado para estas columnas y puedes proceder con el análisis con la certeza de que no hay valores fuera de los rangos esperados en order_hour_of_day y order_dow."
   ]
  },
  {
   "cell_type": "markdown",
   "id": "e867dce9",
   "metadata": {},
   "source": [
    "<div class=\"alert alert-block alert-success\">\n",
    "<b>Comentario del revisor (1ra Iteración)</b> <a class=“tocSkip”></a>\n",
    "\n",
    "Muy buen trabajo, has comprobado quue los datos de hora y día de la semana están en un rango correcto. Validar este tipo de información es clave para evitar errores o problemas más adelante\n",
    "\n",
    "</div>"
   ]
  },
  {
   "cell_type": "markdown",
   "id": "a6743a70",
   "metadata": {
    "id": "a6743a70"
   },
   "source": [
    "### [A2] Para cada hora del día, ¿cuántas personas hacen órdenes?"
   ]
  },
  {
   "cell_type": "code",
   "execution_count": 109,
   "id": "a36cca27",
   "metadata": {
    "id": "a36cca27"
   },
   "outputs": [
    {
     "data": {
      "image/png": "[encoded data removed]",
      "text/plain": [
       "<Figure size 1000x600 with 1 Axes>"
      ]
     },
     "metadata": {},
     "output_type": "display_data"
    }
   ],
   "source": [
    "import pandas as pd\n",
    "import matplotlib.pyplot as plt\n",
    "# Contar el número de pedidos por hora del día\n",
    "orders_per_hour = instacart_orders.groupby('order_hour_of_day')['order_id'].count()\n",
    "\n",
    "# Crear el gráfico\n",
    "plt.figure(figsize=(10, 6))\n",
    "orders_per_hour.plot(kind='bar', color='skyblue')\n",
    "plt.title('Número de Pedidos por Hora del Día')\n",
    "plt.xlabel('Hora del Día')\n",
    "plt.ylabel('Número de Pedidos')\n",
    "plt.xticks(rotation=0)\n",
    "plt.grid(axis='y')\n",
    "\n",
    "# Mostrar el gráfico\n",
    "plt.show()\n",
    "\n",
    "\n",
    "\n"
   ]
  },
  {
   "cell_type": "markdown",
   "id": "11270eed",
   "metadata": {
    "id": "11270eed"
   },
   "source": [
    "Escribe aquí tus conclusiones\n",
    "Generamos un gráfico que mostró el número de pedidos realizados dependiendo de la hora del día, proporcionándonos una visión clara de las horas pico de pedidos."
   ]
  },
  {
   "cell_type": "markdown",
   "id": "7f9d3e42",
   "metadata": {},
   "source": [
    "<div class=\"alert alert-block alert-success\">\n",
    "<b>Comentario del revisor (2da Iteración)</b> <a class=“tocSkip”></a>\n",
    "\n",
    "Roberto has encontrado la distribución correcta de compras por hora.\n",
    "\n",
    "</div>"
   ]
  },
  {
   "cell_type": "markdown",
   "id": "documented-command",
   "metadata": {
    "id": "documented-command"
   },
   "source": [
    "### [A3] ¿Qué día de la semana compran víveres las personas?"
   ]
  },
  {
   "cell_type": "code",
   "execution_count": 112,
   "id": "chief-digit",
   "metadata": {
    "id": "chief-digit"
   },
   "outputs": [
    {
     "data": {
      "image/png": "[encoded data removed]",
      "text/plain": [
       "<Figure size 1000x600 with 1 Axes>"
      ]
     },
     "metadata": {},
     "output_type": "display_data"
    }
   ],
   "source": [
    "import pandas as pd\n",
    "import matplotlib.pyplot as plt\n",
    "\n",
    "# Contar el número de pedidos por día de la semana\n",
    "orders_per_day = instacart_orders.groupby('order_dow')['order_id'].count()\n",
    "# Crear el gráfico\n",
    "plt.figure(figsize=(10, 6))\n",
    "orders_per_day.plot(kind='bar', color='skyblue')\n",
    "plt.title('Número de Pedidos por Día de la Semana')\n",
    "plt.xlabel('Día de la Semana')\n",
    "plt.ylabel('Número de Pedidos')\n",
    "plt.xticks(ticks=range(7), labels=['Domingo', 'Lunes', 'Martes', 'Miércoles', 'Jueves', 'Viernes', 'Sábado'], rotation=0)\n",
    "plt.grid(axis='y')\n",
    "\n",
    "# Mostrar el gráfico\n",
    "\n",
    "plt.show()\n",
    "\n",
    "         "
   ]
  },
  {
   "cell_type": "markdown",
   "id": "dominant-lightning",
   "metadata": {
    "id": "dominant-lightning"
   },
   "source": [
    "Escribe aquí tus conclusiones\n",
    "El gráfico de barras muestra claramente que ciertos días de la semana (Domingo-Lunes) tienen más actividad de compras que otros.\n",
    "Esto sugiere que las personas prefieren hacer sus compras de víveres durante el fin de semana cuando tienen más tiempo libre."
   ]
  },
  {
   "cell_type": "markdown",
   "id": "532c7662",
   "metadata": {},
   "source": [
    "<div class=\"alert alert-block alert-success\">\n",
    "<b>Comentario del revisor (2da Iteración)</b> <a class=“tocSkip”></a>\n",
    "\n",
    "Perfecto, la mayoría de compras se hacen entre domingo y lunes.\n",
    "\n",
    "</div>"
   ]
  },
  {
   "cell_type": "markdown",
   "id": "cutting-concert",
   "metadata": {
    "id": "cutting-concert"
   },
   "source": [
    "### [A4] ¿Cuánto tiempo esperan las personas hasta hacer otro pedido? Comenta sobre los valores mínimos y máximos."
   ]
  },
  {
   "cell_type": "code",
   "execution_count": 113,
   "id": "c231f523",
   "metadata": {
    "id": "c231f523"
   },
   "outputs": [
    {
     "data": {
      "image/png": "[encoded data removed]",
      "text/plain": [
       "<Figure size 1000x600 with 1 Axes>"
      ]
     },
     "metadata": {},
     "output_type": "display_data"
    },
    {
     "name": "stdout",
     "output_type": "stream",
     "text": [
      "Valor mínimo de días desde el pedido anterior: 0.0\n",
      "Valor máximo de días desde el pedido anterior: 30.0\n"
     ]
    }
   ],
   "source": [
    "import pandas as pd\n",
    "import matplotlib.pyplot as plt\n",
    "\n",
    "# Filtrar valores no nulos en 'days_since_prior_order'\n",
    "valid_orders = instacart_orders['days_since_prior_order'].dropna()\n",
    "# Crear el gráfico\n",
    "plt.figure(figsize=(10, 6))\n",
    "valid_orders.hist(bins=30, color='skyblue')\n",
    "plt.title('Tiempo de Espera Hasta el Siguiente Pedido')\n",
    "plt.xlabel('Días Desde el Pedido Anterior')\n",
    "plt.ylabel('Número de Pedidos')\n",
    "plt.grid(axis='y')\n",
    "\n",
    "# Mostrar el gráfico\n",
    "\n",
    "plt.show()\n",
    "\n",
    "# Calcular valores mínimos y máximos\n",
    "min_days_since_prior_order = valid_orders.min()\n",
    "max_days_since_prior_order = valid_orders.max()\n",
    "\n",
    "print(f\"Valor mínimo de días desde el pedido anterior: {min_days_since_prior_order}\")\n",
    "print(f\"Valor máximo de días desde el pedido anterior: {max_days_since_prior_order}\")\n"
   ]
  },
  {
   "cell_type": "markdown",
   "id": "discrete-vertex",
   "metadata": {
    "id": "discrete-vertex"
   },
   "source": [
    "Escribe aquí tus conclusiones\n",
    "La mayoría de los clientes tiende a realizar pedidos en intervalos regulares, con varios picos de frecuencia.\n",
    "Valor Mínimo: El tiempo mínimo de espera es de 0 días, lo que significa que algunos clientes realizan pedidos en días consecutivos.\n",
    "Valor Máximo: El tiempo máximo de espera es de 30 días, indicando que algunos clientes esperan hasta un mes para realizar su próximo pedido.\n"
   ]
  },
  {
   "cell_type": "markdown",
   "id": "9b0b72fc",
   "metadata": {},
   "source": [
    "<div class=\"alert alert-block alert-success\">\n",
    "<b>Comentario del revisor (1ra Iteración)</b> <a class=“tocSkip”></a>\n",
    "\n",
    "Excelente trabajo determinando los días que toman los clientes para hacer un nuevo pedido. En muchas ocasiones, cuando la última categoría de un conjunto de datos (en este caso el día 30) tiene un comportamiento tan atípico se puede deber a un problema en el registro de la información. En otro escenario sería necesario revisar en detalle el porqué de ese comportamiento en los datos.\n",
    "\n",
    "</div>"
   ]
  },
  {
   "cell_type": "markdown",
   "id": "tight-staff",
   "metadata": {
    "id": "tight-staff"
   },
   "source": [
    "# [B] Intermedio (deben completarse todos para aprobar)\n",
    "\n",
    "1. ¿Existe alguna diferencia entre las distribuciones `'order_hour_of_day'` de los miércoles y los sábados? Traza gráficos de barra de `'order_hour_of_day'` para ambos días en la misma figura y describe las diferencias que observes.\n",
    "2. Grafica la distribución para el número de órdenes que hacen los clientes (es decir, cuántos clientes hicieron solo 1 pedido, cuántos hicieron 2, cuántos 3, y así sucesivamente...).\n",
    "3. ¿Cuáles son los 20 principales productos que se piden con más frecuencia (muestra su identificación y nombre)?"
   ]
  },
  {
   "cell_type": "markdown",
   "id": "packed-classic",
   "metadata": {
    "id": "packed-classic"
   },
   "source": [
    "### [B1] Diferencia entre miércoles y sábados para  `'order_hour_of_day'`. Traza gráficos de barra para los dos días y describe las diferencias que veas."
   ]
  },
  {
   "cell_type": "code",
   "execution_count": 129,
   "id": "d89b8403",
   "metadata": {
    "id": "d89b8403"
   },
   "outputs": [],
   "source": [
    "import pandas as pd\n",
    "import matplotlib.pyplot as plt\n"
   ]
  },
  {
   "cell_type": "code",
   "execution_count": 130,
   "id": "94e54e8a",
   "metadata": {
    "id": "94e54e8a"
   },
   "outputs": [],
   "source": [
    "# Filtrar pedidos para los miércoles (día 3) y sábados (día 6)\n",
    "wednesday_orders = instacart_orders[instacart_orders['order_dow'] == 3]\n",
    "saturday_orders = instacart_orders[instacart_orders['order_dow'] == 6]\n"
   ]
  },
  {
   "cell_type": "code",
   "execution_count": 131,
   "id": "797c90a8",
   "metadata": {
    "id": "797c90a8"
   },
   "outputs": [],
   "source": [
    "# Contar el número de pedidos por hora del día para miércoles y sábados\n",
    "wednesday_orders_per_hour = wednesday_orders.groupby('order_hour_of_day')['order_id'].count()\n",
    "saturday_orders_per_hour = saturday_orders.groupby('order_hour_of_day')['order_id'].count() "
   ]
  },
  {
   "cell_type": "code",
   "execution_count": 132,
   "id": "35bcea30",
   "metadata": {
    "id": "35bcea30"
   },
   "outputs": [
    {
     "data": {
      "image/png": "[encoded data removed]",
      "text/plain": [
       "<Figure size 1400x800 with 1 Axes>"
      ]
     },
     "metadata": {},
     "output_type": "display_data"
    }
   ],
   "source": [
    "# Crear el gráfico\n",
    "plt.figure(figsize=(14, 8))\n",
    "# Gráfico de barras para miércoles\n",
    "plt.bar(wednesday_orders_per_hour.index - 0.2, wednesday_orders_per_hour, width=0.4, label='Miércoles', color='blue', align='center')\n",
    "# Gráfico de barras para sábados\n",
    "plt.bar(saturday_orders_per_hour.index + 0.2, saturday_orders_per_hour, width=0.4, label='Sábado', color='orange', align='center')\n",
    "\n",
    "\n",
    "plt.title('Número de Pedidos por Hora del Día: Miércoles vs. Sábado')\n",
    "plt.xlabel('Hora del Día')\n",
    "plt.ylabel('Número de Pedidos')\n",
    "plt.xticks(range(24))\n",
    "plt.legend()\n",
    "plt.grid(axis='y')\n",
    "plt.show()"
   ]
  },
  {
   "cell_type": "markdown",
   "id": "charitable-congo",
   "metadata": {
    "id": "charitable-congo"
   },
   "source": [
    "Escribe aquí tus conclusiones\n",
    "Al comparar las distribuciones de order_hour_of_day para los miércoles y los sábados, observamos varias diferencias notables en los patrones de compra:\n",
    "\n",
    "Miércoles:\n",
    "\n",
    "Los pedidos en miércoles tienden a estar distribuidos de manera más uniforme a lo largo del día.\n",
    "\n",
    "Hay picos de actividad temprano en la mañana (9-10 a.m.) y en la tarde (4-6 p.m.), lo que sugiere que los clientes aprovechan antes o después de su jornada laboral.\n",
    "\n",
    "Sábados:\n",
    "\n",
    "La distribución de pedidos muestra una mayor concentración en las horas de la tarde.\n",
    "\n",
    "El pico de actividad ocurre alrededor del mediodía y temprano en la tarde (11 a.m. - 2 p.m.), probablemente debido a que los clientes tienen más tiempo libre para hacer sus compras.\n"
   ]
  },
  {
   "cell_type": "markdown",
   "id": "afc99951",
   "metadata": {},
   "source": [
    "<div class=\"alert alert-block alert-success\">\n",
    "<b>Comentario del revisor (2da Iteración)</b> <a class=“tocSkip”></a>\n",
    "\n",
    "Muy buen trabajo comparando los datos de los días miércoles y sábado. Al parecer hay un descenso de uso en horas de medio día para el miércoles, posiblemente porque sea el momento de almorzar.\n",
    "\n",
    "</div>"
   ]
  },
  {
   "cell_type": "markdown",
   "id": "e3891143",
   "metadata": {
    "id": "e3891143"
   },
   "source": [
    "### [B2] ¿Cuál es la distribución para el número de pedidos por cliente?"
   ]
  },
  {
   "cell_type": "code",
   "execution_count": 135,
   "id": "d8c26c23",
   "metadata": {
    "id": "d8c26c23"
   },
   "outputs": [],
   "source": [
    "import pandas as pd\n",
    "import matplotlib.pyplot as plt\n",
    "# Contar el número de pedidos por cliente\n",
    "orders_per_customer = instacart_orders.groupby('user_id')['order_id'].count()\n",
    "       \n",
    "                                                     \n"
   ]
  },
  {
   "cell_type": "code",
   "execution_count": 136,
   "id": "00e69a66",
   "metadata": {
    "id": "00e69a66"
   },
   "outputs": [
    {
     "data": {
      "image/png": "[encoded data removed]",
      "text/plain": [
       "<Figure size 1200x600 with 1 Axes>"
      ]
     },
     "metadata": {},
     "output_type": "display_data"
    }
   ],
   "source": [
    "# Crear el gráfico\n",
    "plt.figure(figsize=(12, 6))\n",
    "orders_per_customer.value_counts().sort_index().plot(kind='bar', color='skyblue')\n",
    "plt.title('Distribución del Número de Pedidos por Cliente')\n",
    "plt.xlabel('Número de Pedidos')\n",
    "plt.ylabel('Cantidad de Clientes')\n",
    "plt.xticks(rotation=0)\n",
    "plt.grid(axis='y')\n",
    "plt.show()\n"
   ]
  },
  {
   "cell_type": "markdown",
   "id": "d2eff7d5",
   "metadata": {
    "id": "d2eff7d5"
   },
   "source": [
    "Escribe aquí tus conclusiones\n",
    "\n",
    "La mayoría de los clientes realiza solo un pedido. Esto es común en muchos servicios en línea, donde los nuevos usuarios prueban el servicio una vez.\n",
    "Clientes Frecuentes:\n",
    "\n",
    "A medida que incrementa el número de pedidos, la cantidad de clientes que realizan múltiples pedidos disminuye gradualmente.\n",
    "\n",
    "Sin embargo, hay un grupo significativo de clientes que realizan pedidos regularmente, lo que indica la existencia de una base de usuarios leales."
   ]
  },
  {
   "cell_type": "markdown",
   "id": "7e5b4520",
   "metadata": {},
   "source": [
    "<div class=\"alert alert-block alert-success\">\n",
    "<b>Comentario del revisor (1ra Iteración)</b> <a class=“tocSkip”></a>\n",
    "\n",
    "Magnífico trabajo Roberto\n",
    "\n",
    "</div>"
   ]
  },
  {
   "cell_type": "markdown",
   "id": "54a0319c",
   "metadata": {
    "id": "54a0319c"
   },
   "source": [
    "### [B3] ¿Cuáles son los 20 productos más populares (muestra su ID y nombre)?"
   ]
  },
  {
   "cell_type": "code",
   "execution_count": 137,
   "id": "exterior-arizona",
   "metadata": {
    "id": "exterior-arizona",
    "scrolled": true
   },
   "outputs": [],
   "source": [
    "# Contar la frecuencia de cada producto en el DataFrame order_products\n",
    "product_frequency = order_products['product_id'].value_counts().head(20)\n",
    "# Obtener los nombres de los productos correspondientes\n",
    "top_20_products = products[products['product_id'].isin(product_frequency.index)][['product_id', 'product_name']]\n",
    "                                                                     "
   ]
  },
  {
   "cell_type": "code",
   "execution_count": 138,
   "id": "universal-facial",
   "metadata": {
    "id": "universal-facial"
   },
   "outputs": [],
   "source": [
    "# Ordenar los productos por frecuencia de pedidos\n",
    "top_20_products = top_20_products.set_index('product_id').loc[product_frequency.index].reset_index()\n"
   ]
  },
  {
   "cell_type": "code",
   "execution_count": 139,
   "id": "bbcdd20b",
   "metadata": {
    "id": "bbcdd20b"
   },
   "outputs": [
    {
     "name": "stdout",
     "output_type": "stream",
     "text": [
      "    index              product_name\n",
      "0   24852                    Banana\n",
      "1   13176    Bag of Organic Bananas\n",
      "2   21137      Organic Strawberries\n",
      "3   21903      Organic Baby Spinach\n",
      "4   47209      Organic Hass Avocado\n",
      "5   47766           Organic Avocado\n",
      "6   47626               Large Lemon\n",
      "7   16797              Strawberries\n",
      "8   26209                     Limes\n",
      "9   27845        Organic Whole Milk\n",
      "10  27966       Organic Raspberries\n",
      "11  22935      Organic Yellow Onion\n",
      "12  24964            Organic Garlic\n",
      "13  45007          Organic Zucchini\n",
      "14  39275       Organic Blueberries\n",
      "15  49683            Cucumber Kirby\n",
      "16  28204        Organic Fuji Apple\n",
      "17   5876             Organic Lemon\n",
      "18   8277  Apple Honeycrisp Organic\n",
      "19  40706    Organic Grape Tomatoes\n"
     ]
    }
   ],
   "source": [
    "print(top_20_products)"
   ]
  },
  {
   "cell_type": "markdown",
   "id": "7df00f47",
   "metadata": {
    "id": "7df00f47"
   },
   "source": [
    "Escribe aquí tus conclusiones\n",
    "Productos Frescos y Orgánicos:\n",
    "Bananas y Bag of Organic Bananas son los dos productos más frecuentemente comprados, lo que refleja una fuerte preferencia por productos frescos y naturales.\n",
    "\n",
    "Otros productos orgánicos como Organic Strawberries, Organic Baby Spinach, Organic Hass Avocado, y Organic Blueberries también se encuentran entre los favoritos.\n",
    "Preferencia por Frutas y Verduras:\n",
    "\n",
    "La mayoría de los productos más populares son frutas y verduras frescas, como Large Lemon, Strawberries, Limes, Cucumber Kirby, y Organic Grape Tomatoes.\n",
    "\n",
    "Esto sugiere una tendencia hacia una alimentación saludable entre los clientes de Instacart.\n",
    "\n",
    "Diversidad de Productos:\n",
    "\n",
    "Además de frutas y verduras, hay una variedad de productos que destacan, como Organic Whole Milk y Seedless Red Grapes, lo que indica una gama amplia de preferencias en las compras de los clientes."
   ]
  },
  {
   "cell_type": "markdown",
   "id": "c689ff76",
   "metadata": {},
   "source": [
    "<div class=\"alert alert-block alert-success\">\n",
    "<b>Comentario del revisor (2da Iteración)</b> <a class=“tocSkip”></a>\n",
    "\n",
    "Genial, has encontrado el top 20 de productos más populares. Puedes completmentar la información incluyendo el conteo de cada producto\n",
    "\n",
    "</div>"
   ]
  },
  {
   "cell_type": "markdown",
   "id": "gross-theme",
   "metadata": {
    "id": "gross-theme"
   },
   "source": [
    "# [C] Difícil (deben completarse todos para aprobar)\n",
    "\n",
    "1. ¿Cuántos artículos suelen comprar las personas en un pedido? ¿Cómo es la distribución?\n",
    "2. ¿Cuáles son los 20 principales artículos que vuelven a pedirse con mayor frecuencia (muestra sus nombres e IDs de los productos)?\n",
    "3. Para cada producto, ¿cuál es la tasa de repetición del pedido (número de repeticiones de pedido/total de pedidos?\n",
    "4. Para cada cliente, ¿qué proporción de los productos que pidió ya los había pedido? Calcula la tasa de repetición de pedido para cada usuario en lugar de para cada producto.\n",
    "5. ¿Cuáles son los 20 principales artículos que la gente pone primero en sus carritos (muestra las IDs de los productos, sus nombres, y el número de veces en que fueron el primer artículo en añadirse al carrito)?"
   ]
  },
  {
   "cell_type": "markdown",
   "id": "romantic-deposit",
   "metadata": {
    "id": "romantic-deposit"
   },
   "source": [
    "### [C1] ¿Cuántos artículos compran normalmente las personas en un pedido? ¿Cómo es la distribución?"
   ]
  },
  {
   "cell_type": "code",
   "execution_count": 140,
   "id": "virtual-punch",
   "metadata": {
    "id": "virtual-punch"
   },
   "outputs": [],
   "source": [
    "import pandas as pd\n",
    "import matplotlib.pyplot as plt"
   ]
  },
  {
   "cell_type": "code",
   "execution_count": 142,
   "id": "sensitive-breathing",
   "metadata": {
    "id": "sensitive-breathing"
   },
   "outputs": [],
   "source": [
    "# Contar el número de artículos en cada pedido\n",
    "items_per_order = order_products.groupby('order_id')['product_id'].count()"
   ]
  },
  {
   "cell_type": "code",
   "execution_count": 143,
   "id": "completed-frank",
   "metadata": {
    "id": "completed-frank"
   },
   "outputs": [
    {
     "data": {
      "image/png": "[encoded data removed]",
      "text/plain": [
       "<Figure size 1200x600 with 1 Axes>"
      ]
     },
     "metadata": {},
     "output_type": "display_data"
    },
    {
     "name": "stdout",
     "output_type": "stream",
     "text": [
      "count    450046.000000\n",
      "mean         10.098983\n",
      "std           7.540206\n",
      "min           1.000000\n",
      "25%           5.000000\n",
      "50%           8.000000\n",
      "75%          14.000000\n",
      "max         127.000000\n",
      "Name: product_id, dtype: float64\n"
     ]
    }
   ],
   "source": [
    "# Crear el gráfico de distribución\n",
    "plt.figure(figsize=(12, 6))\n",
    "items_per_order.plot(kind='hist', bins=30, color='skyblue', edgecolor='black')\n",
    "plt.title('Distribución del Número de Artículos por Pedido')\n",
    "plt.xlabel('Número de Artículos por Pedido')\n",
    "plt.ylabel('Frecuencia')\n",
    "plt.grid(axis='y')\n",
    "plt.show()\n",
    "# Mostrar estadísticas descriptivas\n",
    "items_per_order_stats = items_per_order.describe()\n",
    "print(items_per_order_stats)\n",
    "\n",
    "           \n"
   ]
  },
  {
   "cell_type": "markdown",
   "id": "designed-mortality",
   "metadata": {
    "id": "designed-mortality"
   },
   "source": [
    "Escribe aquí tus conclusiones\n",
    "La mayoría de los pedidos contienen entre 5 y 15 artículos, lo que sugiere que los clientes suelen hacer compras moderadas, posiblemente para llenar necesidades semanales.\n",
    "\n",
    "La distribución muestra una caída gradual en la frecuencia a medida que aumenta el número de artículos por pedido.\n",
    "Estadísticas Descriptivas:\n",
    "\n",
    "Media: La media del número de artículos por pedido proporciona una idea general de cuántos artículos se compran habitualmente.\n",
    "\n",
    "Mediana: La mediana es útil para entender el punto medio de la distribución y ofrece una perspectiva de compra típica.\n",
    "\n",
    "Mínimo y Máximo: Los valores mínimos y máximos muestran el rango completo, desde los pedidos más pequeños (1 artículo) hasta los más grandes.\n",
    "\n",
    "Desviación Estándar: La desviación estándar indica la variabilidad en el número de artículos por pedido."
   ]
  },
  {
   "cell_type": "markdown",
   "id": "7f7217bc",
   "metadata": {},
   "source": [
    "<div class=\"alert alert-block alert-success\">\n",
    "<b>Comentario del revisor (1ra Iteración)</b> <a class=“tocSkip”></a>\n",
    "\n",
    "Magnífico Roberto, el comportamiento es lo esperado, no tantos productos por compra.\n",
    "\n",
    "</div>"
   ]
  },
  {
   "cell_type": "markdown",
   "id": "5e6b5537",
   "metadata": {
    "id": "5e6b5537"
   },
   "source": [
    "### [C2] ¿Cuáles son los 20 principales artículos que vuelven a pedirse con mayor frecuencia (muestra sus nombres e IDs de los productos)?"
   ]
  },
  {
   "cell_type": "code",
   "execution_count": 144,
   "id": "9374e55a",
   "metadata": {
    "id": "9374e55a"
   },
   "outputs": [],
   "source": [
    "# Contar la frecuencia de reorden en el DataFrame order_products\n",
    "reorder_frequency = order_products[order_products['reordered'] == 1]['product_id'].value_counts().head(20)"
   ]
  },
  {
   "cell_type": "code",
   "execution_count": 145,
   "id": "possible-change",
   "metadata": {
    "id": "possible-change",
    "scrolled": true
   },
   "outputs": [],
   "source": [
    "# Obtener los nombres de los productos correspondientes\n",
    "top_20_reordered_products = products[products['product_id'].isin(reorder_frequency.index)][['product_id', 'product_name']]"
   ]
  },
  {
   "cell_type": "code",
   "execution_count": 146,
   "id": "professional-surfing",
   "metadata": {
    "id": "professional-surfing",
    "scrolled": true
   },
   "outputs": [],
   "source": [
    "# Ordenar los productos por frecuencia de reorden\n",
    "top_20_reordered_products = top_20_reordered_products.set_index('product_id').loc[reorder_frequency.index].reset_index()"
   ]
  },
  {
   "cell_type": "code",
   "execution_count": 147,
   "id": "48dd3658",
   "metadata": {
    "id": "48dd3658"
   },
   "outputs": [
    {
     "name": "stdout",
     "output_type": "stream",
     "text": [
      "    index              product_name\n",
      "0   24852                    Banana\n",
      "1   13176    Bag of Organic Bananas\n",
      "2   21137      Organic Strawberries\n",
      "3   21903      Organic Baby Spinach\n",
      "4   47209      Organic Hass Avocado\n",
      "5   47766           Organic Avocado\n",
      "6   27845        Organic Whole Milk\n",
      "7   47626               Large Lemon\n",
      "8   27966       Organic Raspberries\n",
      "9   16797              Strawberries\n",
      "10  26209                     Limes\n",
      "11  22935      Organic Yellow Onion\n",
      "12  24964            Organic Garlic\n",
      "13  45007          Organic Zucchini\n",
      "14  49683            Cucumber Kirby\n",
      "15  28204        Organic Fuji Apple\n",
      "16   8277  Apple Honeycrisp Organic\n",
      "17  39275       Organic Blueberries\n",
      "18   5876             Organic Lemon\n",
      "19  49235       Organic Half & Half\n"
     ]
    }
   ],
   "source": [
    "# Mostrar los 20 productos más frecuentemente reordenados\n",
    "print(top_20_reordered_products)\n"
   ]
  },
  {
   "cell_type": "markdown",
   "id": "80e70c74",
   "metadata": {
    "id": "80e70c74"
   },
   "source": [
    "Escribe aquí tus conclusiones\n",
    "Preferencia por Productos Frescos y Orgánicos:\n",
    "\n",
    "Los productos frescos y orgánicos dominan la lista de los más reordenados, con artículos como las Bananas y Bag of Organic Bananas liderando.\n",
    "\n",
    "Otros productos orgánicos populares incluyen Organic Strawberries, Organic Baby Spinach, Organic Hass Avocado, y Organic Blueberries.\n",
    "\n",
    "Frutas y Verduras Principales:\n",
    "\n",
    "La mayoría de los productos reordenados son frutas y verduras frescas, como Large Lemon, Strawberries, Limes, Cucumber Kirby, y Organic Grape Tomatoes.\n",
    "\n",
    "Esta tendencia refuerza la preferencia de los clientes por una alimentación saludable.\n",
    "\n",
    "Diversidad de Productos:\n",
    "\n",
    "Además de frutas y verduras, algunos productos lácteos como Organic Whole Milk y hierbas como Organic Cilantro también se encuentran entre los más reordenados.\n",
    "\n",
    "La diversidad de productos reordenados sugiere que los clientes tienen necesidades variadas, desde artículos básicos hasta productos más especializados.\n"
   ]
  },
  {
   "cell_type": "markdown",
   "id": "29ce726e",
   "metadata": {},
   "source": [
    "<div class=\"alert alert-block alert-success\">\n",
    "<b>Comentario del revisor (1ra Iteración)</b> <a class=“tocSkip”></a>\n",
    "\n",
    "Perfecto Roberto,, has encontrado el top 20 de productos que son más \"re-ordenados\" por los usuarios. \n",
    "\n",
    "</div>"
   ]
  },
  {
   "cell_type": "markdown",
   "id": "9d312b14",
   "metadata": {
    "id": "9d312b14"
   },
   "source": [
    "### [C3] Para cada producto, ¿cuál es la proporción de las veces que se pide y que se vuelve a pedir?"
   ]
  },
  {
   "cell_type": "code",
   "execution_count": 148,
   "id": "8ae9f4b1",
   "metadata": {
    "id": "8ae9f4b1"
   },
   "outputs": [],
   "source": [
    "# Calcular el número total de pedidos por producto\n",
    "total_orders_per_product = order_products['product_id'].value_counts()\n",
    "\n",
    "# Calcular el número de repeticiones de pedidos por producto\n",
    "reorders_per_product = order_products[order_products['reordered'] == 1]['product_id'].value_counts()\n",
    "\n"
   ]
  },
  {
   "cell_type": "code",
   "execution_count": 149,
   "id": "103e7fe1",
   "metadata": {
    "id": "103e7fe1"
   },
   "outputs": [],
   "source": [
    "# Calcular la tasa de repetición del pedido para cada producto\n",
    "reorder_rate_per_product = reorders_per_product / total_orders_per_product\n",
    "\n"
   ]
  },
  {
   "cell_type": "code",
   "execution_count": 150,
   "id": "social-individual",
   "metadata": {
    "id": "social-individual"
   },
   "outputs": [
    {
     "name": "stdout",
     "output_type": "stream",
     "text": [
      "       product_id  reorder_rate  \\\n",
      "0               1      0.564286   \n",
      "1               2           NaN   \n",
      "2               3      0.738095   \n",
      "3               4      0.510204   \n",
      "4               7      0.500000   \n",
      "...           ...           ...   \n",
      "45568       49690      0.800000   \n",
      "45569       49691      0.430556   \n",
      "45570       49692      0.416667   \n",
      "45571       49693      0.440000   \n",
      "45572       49694      0.333333   \n",
      "\n",
      "                                            product_name  \n",
      "0                             Chocolate Sandwich Cookies  \n",
      "1                                       All-Seasons Salt  \n",
      "2                   Robust Golden Unsweetened Oolong Tea  \n",
      "3      Smart Ones Classic Favorites Mini Rigatoni Wit...  \n",
      "4                         Pure Coconut Water With Orange  \n",
      "...                                                  ...  \n",
      "45568                      HIGH PERFORMANCE ENERGY DRINK  \n",
      "45569                      ORIGINAL PANCAKE & WAFFLE MIX  \n",
      "45570    ORGANIC INSTANT OATMEAL LIGHT MAPLE BROWN SUGAR  \n",
      "45571                             SPRING WATER BODY WASH  \n",
      "45572                            BURRITO- STEAK & CHEESE  \n",
      "\n",
      "[45573 rows x 3 columns]\n"
     ]
    }
   ],
   "source": [
    "# Convertir a DataFrame y añadir nombres de los productos\n",
    "reorder_rate_df = reorder_rate_per_product.reset_index()\n",
    "reorder_rate_df.columns = ['product_id', 'reorder_rate']\n",
    "reorder_rate_df = reorder_rate_df.merge(products[['product_id', 'product_name']], on='product_id', how='left')\n",
    "\n",
    "print(reorder_rate_df)\n"
   ]
  },
  {
   "cell_type": "markdown",
   "id": "I10dEIAyldcO",
   "metadata": {
    "id": "I10dEIAyldcO"
   },
   "source": [
    "Escribe aquí tus conclusiones\n",
    "Productos con Alta Tasa de Repetición:\n",
    "\n",
    "Los productos frescos y orgánicos dominan las listas de los más reordenados, reflejando una fuerte preferencia por una alimentación saludable entre los clientes de Instacart.\n",
    "\n",
    "Ejemplos de productos con alta tasa de repetición incluyen Bananas, Bag of Organic Bananas, Organic Strawberries, y Organic Baby Spinach.\n",
    "\n",
    "Diversidad de Productos Reordenados:\n",
    "\n",
    "Además de frutas y verduras, otros productos como Organic Whole Milk y Cucumber Kirby también tienen una alta tasa de repetición, lo que indica que son esenciales en la lista de compras regular de los clientes.\n",
    "\n",
    "La variedad de productos reordenados muestra que los clientes tienen necesidades y preferencias diversificadas que Instacart debe atender.\n",
    "\n",
    "Implicaciones para la Gestión de Inventarios:\n",
    "\n",
    "Los productos con altas tasas de repetición deben ser siempre priorizados en la gestión de inventarios para asegurar su disponibilidad constante.\n",
    "\n",
    "Asegurar la disponibilidad de estos productos puede mejorar la satisfacción del cliente y aumentar la lealtad a largo plazo."
   ]
  },
  {
   "cell_type": "markdown",
   "id": "7e6d42eb",
   "metadata": {},
   "source": [
    "<div class=\"alert alert-block alert-success\">\n",
    "<b>Comentario del revisor (1ra Iteración)</b> <a class=“tocSkip”></a>\n",
    "\n",
    "Excelente análisis e interpretación de la información que has obtenido respecto a la proporción de los productos \"re-ordenados\"\n",
    "\n",
    "</div>"
   ]
  },
  {
   "cell_type": "markdown",
   "id": "subject-boxing",
   "metadata": {
    "id": "subject-boxing"
   },
   "source": [
    "### [C4] Para cada cliente, ¿qué proporción de sus productos ya los había pedido?"
   ]
  },
  {
   "cell_type": "code",
   "execution_count": 156,
   "id": "medical-couple",
   "metadata": {
    "id": "medical-couple",
    "scrolled": true
   },
   "outputs": [],
   "source": [
    "# Unir las tablas orders y order_products por order_id\n",
    "order_data = order_products.merge(instacart_orders, on='order_id')\n",
    "\n",
    "# Calcular la tasa de repetición de pedido para cada usuario\n",
    "tasa_repeticion_usuario = order_data.groupby('user_id').apply(lambda x: (x['reordered'].sum() / len(x)))\n",
    "\n",
    "# Convertir a DataFrame\n",
    "tasa_repeticion_usuario = tasa_repeticion_usuario.reset_index()\n",
    "tasa_repeticion_usuario.columns = ['user_id', 'tasa_repeticion']\n",
    "\n"
   ]
  },
  {
   "cell_type": "code",
   "execution_count": 157,
   "id": "8892e4b4",
   "metadata": {
    "id": "8892e4b4"
   },
   "outputs": [
    {
     "name": "stdout",
     "output_type": "stream",
     "text": [
      "Tasa de repetición de pedido por usuario (primeros 20 usuarios):\n",
      "    user_id  tasa_repeticion\n",
      "0         2         0.038462\n",
      "1         4         0.000000\n",
      "2         5         0.666667\n",
      "3         6         0.000000\n",
      "4         7         0.928571\n",
      "5        11         0.200000\n",
      "6        12         0.250000\n",
      "7        13         0.565217\n",
      "8        14         0.360656\n",
      "9        15         0.538462\n",
      "10       16         0.531250\n",
      "11       17         0.716981\n",
      "12       19         0.291667\n",
      "13       20         0.000000\n",
      "14       21         0.400000\n",
      "15       22         1.000000\n",
      "16       24         0.500000\n",
      "17       26         0.437500\n",
      "18       27         0.658824\n",
      "19       28         0.500000\n"
     ]
    }
   ],
   "source": [
    "# Mostrar los resultados\n",
    "\n",
    "print(\"Tasa de repetición de pedido por usuario (primeros 20 usuarios):\")\n",
    "print(tasa_repeticion_usuario.head(20))"
   ]
  },
  {
   "cell_type": "markdown",
   "id": "BgJSvXDsleXz",
   "metadata": {
    "id": "BgJSvXDsleXz"
   },
   "source": [
    "Escribe aquí tus conclusiones\n",
    "Tasa de Repetición por Cliente:\n",
    "\n",
    "La tasa de repetición de pedido proporciona una visión de los hábitos de compra de cada usuario.\n",
    "\n",
    "Un valor alto de tasa de repetición sugiere que el cliente tiende a reordenar muchos de los productos que ya había comprado anteriormente.\n",
    "\n",
    "Un valor bajo indica que el cliente prefiere probar nuevos productos en cada compra.\n",
    "\n",
    "Interpretación de los Resultados\n",
    "Estrategias de Marketing: Conocer la tasa de repetición de cada cliente puede ayudar a diseñar campañas de marketing personalizadas, enfocadas en promover productos que el cliente ya ha comprado y probablemente volvería a comprar.\n",
    "\n",
    "Satisfacción del Cliente: Una alta tasa de repetición puede ser un indicador de satisfacción del cliente con los productos previamente comprados.\n",
    "\n",
    "Gestión de Inventarios: Entender los patrones de reorden puede ayudar a Instacart a optimizar la gestión de inventarios y asegurar la disponibilidad de los productos más demandados por cada cliente.\n",
    "\n",
    "Estas conclusiones proporcionan información valiosa para la toma de decisiones estratégicas y operativas. Si tienes más preguntas, otra área que te gustaría explorar, o necesitas más ayuda, ¡házmelo saber!"
   ]
  },
  {
   "cell_type": "markdown",
   "id": "1d1daa94",
   "metadata": {},
   "source": [
    "<div class=\"alert alert-block alert-success\">\n",
    "<b>Comentario del revisor (1ra Iteración)</b> <a class=“tocSkip”></a>\n",
    "\n",
    "La proporción que has encontrado de \"re-ordenenes\" por usuario es correcta. Buen trabajo.\n",
    "\n",
    "</div>"
   ]
  },
  {
   "cell_type": "markdown",
   "id": "92d35137",
   "metadata": {
    "id": "92d35137"
   },
   "source": [
    "### [C5] ¿Cuáles son los 20 principales artículos que las personas ponen primero en sus carritos?"
   ]
  },
  {
   "cell_type": "code",
   "execution_count": 158,
   "id": "0ae57274",
   "metadata": {
    "id": "0ae57274",
    "scrolled": true
   },
   "outputs": [],
   "source": [
    "# Filtrar los productos que se añadieron primero al carrito (add_to_cart_order == 1)\n",
    "primeros_productos = order_products[order_products['add_to_cart_order'] == 1]\n",
    "\n",
    "# Contar la frecuencia de cada producto añadido primero al carrito\n",
    "frecuencia_primeros_productos = primeros_productos['product_id'].value_counts().head(20)\n"
   ]
  },
  {
   "cell_type": "code",
   "execution_count": 159,
   "id": "forty-netherlands",
   "metadata": {
    "id": "forty-netherlands",
    "scrolled": true
   },
   "outputs": [],
   "source": [
    "# Resetear el índice para preparar la unión\n",
    "frecuencia_primeros_productos = frecuencia_primeros_productos.reset_index()\n",
    "frecuencia_primeros_productos.columns = ['product_id', 'count']\n",
    "# Unir con la tabla de productos para obtener los nombres\n",
    "primeros_productos_mas_frecuentes = frecuencia_primeros_productos.merge(products, on='product_id', how='left')\n"
   ]
  },
  {
   "cell_type": "code",
   "execution_count": 160,
   "id": "08e41ec2",
   "metadata": {
    "id": "08e41ec2"
   },
   "outputs": [
    {
     "name": "stdout",
     "output_type": "stream",
     "text": [
      "Los 20 principales artículos añadidos primero al carrito:\n",
      "    ID del Producto          Nombre del Producto  Veces Añadido Primero\n",
      "0             24852                       Banana                  15562\n",
      "1             13176       Bag of Organic Bananas                  11026\n",
      "2             27845           Organic Whole Milk                   4363\n",
      "3             21137         Organic Strawberries                   3946\n",
      "4             47209         Organic Hass Avocado                   3390\n",
      "5             21903         Organic Baby Spinach                   3336\n",
      "6             47766              Organic Avocado                   3044\n",
      "7             19660                 Spring Water                   2336\n",
      "8             16797                 Strawberries                   2308\n",
      "9             27966          Organic Raspberries                   2024\n",
      "10            44632   Sparkling Water Grapefruit                   1914\n",
      "11            49235          Organic Half & Half                   1797\n",
      "12            47626                  Large Lemon                   1737\n",
      "13              196                         Soda                   1733\n",
      "14            38689     Organic Reduced Fat Milk                   1397\n",
      "15            26209                        Limes                   1370\n",
      "16            12341                Hass Avocados                   1340\n",
      "17             5785  Organic Reduced Fat 2% Milk                   1310\n",
      "18            27086                  Half & Half                   1309\n",
      "19            22935         Organic Yellow Onion                   1246\n"
     ]
    }
   ],
   "source": [
    "# Seleccionar y renombrar columnas\n",
    "primeros_productos_mas_frecuentes = primeros_productos_mas_frecuentes[['product_id', 'product_name', 'count']]\n",
    "primeros_productos_mas_frecuentes.columns = ['ID del Producto', 'Nombre del Producto', 'Veces Añadido Primero']\n",
    "\n",
    "# Mostrar los resultados\n",
    "print(\"Los 20 principales artículos añadidos primero al carrito:\")\n",
    "print(primeros_productos_mas_frecuentes)"
   ]
  },
  {
   "cell_type": "markdown",
   "id": "28ce9872",
   "metadata": {
    "id": "28ce9872"
   },
   "source": [
    "Escribe aquí tus conclusiones\n",
    "Contar la Frecuencia de Productos Añadidos Primero al Carrito: Utilizamos value_counts() para contar cuántas veces se ha añadido primero cada producto al carrito y seleccionamos los 20 productos más frecuentes.\n",
    "\n",
    "Resetear el Índice: Reseteamos el índice de frecuencia_primeros_productos para preparar la unión con la tabla products.\n",
    "\n",
    "Unir con la Tabla de Productos: Unimos la frecuencia de productos añadidos primero al carrito con la tabla products para obtener los nombres de los productos.\n",
    "\n",
    "Selección y Renombramiento de Columnas: Seleccionamos y renombramos las columnas relevantes para mostrar la identificación del producto, el nombre del producto y el número de veces en que fueron añadidos primero al carrito.\n",
    "\n",
    "Mostrar Resultados: Imprimimos la lista de los 20 principales artículos que las personas añaden primero a sus carritos, con sus identificaciones, nombres y el número de veces que fueron añadidos primero.\n",
    "\n",
    "BRINDA  LOS 20 principales artículos que las personas añaden primero a sus carritos"
   ]
  },
  {
   "cell_type": "markdown",
   "id": "1c41238e",
   "metadata": {},
   "source": [
    "<div class=\"alert alert-block alert-success\">\n",
    "<b>Comentario del revisor (1ra Iteración)</b> <a class=“tocSkip”></a>\n",
    "\n",
    "Perfecto Roberto has obtenido la información correcta.\n",
    "\n",
    "</div>"
   ]
  },
  {
   "cell_type": "markdown",
   "id": "uITbFCEoDosC",
   "metadata": {
    "id": "uITbFCEoDosC"
   },
   "source": [
    "### Conclusion general del proyecto:"
   ]
  },
  {
   "cell_type": "code",
   "execution_count": null,
   "id": "Nk-4GS7mDwqY",
   "metadata": {
    "id": "Nk-4GS7mDwqY"
   },
   "outputs": [],
   "source": [
    "Conclusion general del proyecto:\n",
    "En este proyecto, hemos realizado un análisis exhaustivo de los datos de pedidos de Instacart para obtener insights valiosos sobre los hábitos de compra de los clientes.\n",
    "Calidad y Completitud de los Datos:\n",
    "\n",
    "Verificamos la calidad y completitud de los datos, asegurándonos de que los valores en las columnas order_hour_of_day y order_dow sean razonables y estén dentro de los rangos esperados.\n",
    "\n",
    "Realizamos preprocesamiento de datos, como reemplazar valores ausentes y convertir tipos de datos para mejorar la calidad del análisis.\n",
    "\n",
    "Análisis Exploratorio de Datos:\n",
    "\n",
    "Distribución de Pedidos por Hora del Día: Identificamos patrones en el comportamiento de compra de los clientes según la hora del día, observando horas pico de pedidos.\n",
    "\n",
    "Distribución de Pedidos por Día de la Semana: Analizamos qué días de la semana las personas realizan sus compras, destacando los días con mayor actividad.\n",
    "\n",
    "Tiempo de Espera entre Pedidos: Visualizamos el tiempo que los clientes esperan antes de realizar un nuevo pedido, identificando el valor mínimo y máximo de días transcurridos.\n",
    "Análisis de Productos y Clientes:\n",
    "\n",
    "Productos Más Populares: Identificamos los 20 productos más populares, mostrando sus identificaciones y nombres.\n",
    "\n",
    "Proporción de Reordenes por Producto: Calculamos la proporción de veces que cada producto se pide y se vuelve a pedir, destacando los productos con alta fidelización.\n",
    "\n",
    "Proporción de Productos Reordenados por Cliente: Calculamos la proporción de productos reordenados por cada cliente, obteniendo insights sobre la lealtad de los clientes.\n",
    "\n",
    "Productos Añadidos Primero al Carrito: Identificamos los 20 principales artículos que las personas ponen primero en sus carritos, mostrando sus identificaciones y nombres.\n",
    "\n",
    "Insights y Recomendaciones:\n",
    "\n",
    "Patrones de Compra: Los datos revelan patrones de compra consistentes en ciertas horas del día y días de la semana, lo que puede ayudar a optimizar la logística y el inventario.\n",
    "\n",
    "Fidelización de Productos: La alta proporción de reordenes en ciertos productos sugiere la importancia de mantener estos productos en stock para satisfacer la demanda recurrente de los clientes.\n",
    "\n",
    "Segmentación de Clientes: Conocer la proporción de productos reordenados por cliente permite segmentar a los clientes según su lealtad y preferencias de compra, lo que puede utilizarse para personalizar campañas de marketing y promociones."
   ]
  },
  {
   "cell_type": "markdown",
   "id": "87bb2c96",
   "metadata": {},
   "source": [
    "<div class=\"alert alert-block alert-success\">\n",
    "<b>Comentario del revisor (1ra Iteración)</b> <a class=“tocSkip”></a>\n",
    "\n",
    "Excelente análisis y conclusiones Roberto, esto le da mayor valor a la información que has obtenido.\n",
    "<div class=\"alert alert-block alert-warning\">\n",
    "<b>Comentario del revisor (1ra Iteración)</b> <a class=“tocSkip”></a>\n",
    "\n",
    "Te recomiendo usar **Markdown** para agregar texto al notebook, esto permitirá que tu trabajo tenga un mejor estilo, y sea más claro al momento de revisarlo, para esto, el menú desplegable de la barra de herramientas selecciona el formato **Markdown** para la celda donde quieres agregar texto. \n",
    "</div>\n",
    "</div>"
   ]
  }
 ],
 "metadata": {
  "ExecuteTimeLog": [
   {
    "duration": 310,
    "start_time": "2025-01-19T20:48:33.578Z"
   },
   {
    "duration": 2417,
    "start_time": "2025-01-19T20:48:35.533Z"
   },
   {
    "duration": 21,
    "start_time": "2025-01-19T20:48:40.186Z"
   },
   {
    "duration": 10,
    "start_time": "2025-01-19T20:48:41.523Z"
   },
   {
    "duration": 7,
    "start_time": "2025-01-19T20:48:43.229Z"
   },
   {
    "duration": 8,
    "start_time": "2025-01-19T20:48:44.463Z"
   },
   {
    "duration": 7,
    "start_time": "2025-01-19T20:48:45.432Z"
   },
   {
    "duration": 1937,
    "start_time": "2025-01-19T21:05:46.913Z"
   },
   {
    "duration": 991,
    "start_time": "2025-01-19T21:05:49.862Z"
   },
   {
    "duration": 84,
    "start_time": "2025-01-19T21:05:52.035Z"
   },
   {
    "duration": 22,
    "start_time": "2025-01-19T21:06:38.841Z"
   },
   {
    "duration": 562,
    "start_time": "2025-01-19T21:08:12.862Z"
   },
   {
    "duration": 15,
    "start_time": "2025-01-19T21:09:41.037Z"
   },
   {
    "duration": 17,
    "start_time": "2025-01-19T21:10:53.182Z"
   },
   {
    "duration": 82,
    "start_time": "2025-01-19T21:13:03.480Z"
   },
   {
    "duration": 20,
    "start_time": "2025-01-19T21:13:15.232Z"
   },
   {
    "duration": 504,
    "start_time": "2025-01-19T21:13:26.349Z"
   },
   {
    "duration": 12,
    "start_time": "2025-01-19T21:13:38.612Z"
   },
   {
    "duration": 13,
    "start_time": "2025-01-19T21:13:52.525Z"
   },
   {
    "duration": 46,
    "start_time": "2025-01-19T21:26:32.172Z"
   },
   {
    "duration": 235,
    "start_time": "2025-01-19T21:35:57.370Z"
   },
   {
    "duration": 14,
    "start_time": "2025-01-19T21:37:24.284Z"
   },
   {
    "duration": 13,
    "start_time": "2025-01-19T21:38:38.721Z"
   },
   {
    "duration": 91,
    "start_time": "2025-01-19T21:44:31.334Z"
   },
   {
    "duration": 53,
    "start_time": "2025-01-19T21:45:27.650Z"
   },
   {
    "duration": 79,
    "start_time": "2025-01-19T21:53:23.456Z"
   },
   {
    "duration": 105,
    "start_time": "2025-01-19T21:53:55.087Z"
   },
   {
    "duration": 78,
    "start_time": "2025-01-19T21:53:56.533Z"
   },
   {
    "duration": 86,
    "start_time": "2025-01-19T21:54:33.500Z"
   },
   {
    "duration": 95,
    "start_time": "2025-01-19T21:54:36.188Z"
   },
   {
    "duration": 104,
    "start_time": "2025-01-19T22:02:15.499Z"
   },
   {
    "duration": 78,
    "start_time": "2025-01-19T22:02:18.621Z"
   },
   {
    "duration": 38,
    "start_time": "2025-01-19T22:05:47.788Z"
   },
   {
    "duration": 7,
    "start_time": "2025-01-19T22:07:55.901Z"
   },
   {
    "duration": 83,
    "start_time": "2025-01-19T22:08:02.073Z"
   },
   {
    "duration": 79,
    "start_time": "2025-01-19T22:08:04.917Z"
   },
   {
    "duration": 38,
    "start_time": "2025-01-19T22:08:06.818Z"
   },
   {
    "duration": 51,
    "start_time": "2025-01-19T22:11:27.489Z"
   },
   {
    "duration": 75,
    "start_time": "2025-01-19T22:11:49.435Z"
   },
   {
    "duration": 37,
    "start_time": "2025-01-19T22:11:55.261Z"
   },
   {
    "duration": 45,
    "start_time": "2025-01-19T22:13:43.045Z"
   },
   {
    "duration": 67,
    "start_time": "2025-01-19T22:15:09.203Z"
   },
   {
    "duration": 48,
    "start_time": "2025-01-19T22:15:15.015Z"
   },
   {
    "duration": 69,
    "start_time": "2025-01-19T22:15:16.063Z"
   },
   {
    "duration": 12,
    "start_time": "2025-01-19T22:17:23.107Z"
   },
   {
    "duration": 38,
    "start_time": "2025-01-19T22:17:58.939Z"
   },
   {
    "duration": 13,
    "start_time": "2025-01-19T22:30:50.714Z"
   },
   {
    "duration": 5,
    "start_time": "2025-01-19T22:34:17.995Z"
   },
   {
    "duration": 4,
    "start_time": "2025-01-19T22:34:36.878Z"
   },
   {
    "duration": 12,
    "start_time": "2025-01-19T22:35:09.212Z"
   },
   {
    "duration": 12,
    "start_time": "2025-01-19T22:38:39.494Z"
   },
   {
    "duration": 4,
    "start_time": "2025-01-19T22:45:03.846Z"
   },
   {
    "duration": 5,
    "start_time": "2025-01-19T22:46:27.977Z"
   },
   {
    "duration": 28,
    "start_time": "2025-01-19T22:50:13.623Z"
   },
   {
    "duration": 28,
    "start_time": "2025-01-19T22:54:08.438Z"
   },
   {
    "duration": 29,
    "start_time": "2025-01-19T23:05:33.736Z"
   },
   {
    "duration": 4,
    "start_time": "2025-01-19T23:15:33.366Z"
   },
   {
    "duration": 3,
    "start_time": "2025-01-19T23:15:40.089Z"
   },
   {
    "duration": 4,
    "start_time": "2025-01-19T23:15:51.766Z"
   },
   {
    "duration": 4,
    "start_time": "2025-01-19T23:16:33.408Z"
   },
   {
    "duration": 15,
    "start_time": "2025-01-19T23:16:50.980Z"
   },
   {
    "duration": 4,
    "start_time": "2025-01-19T23:17:36.932Z"
   },
   {
    "duration": 5,
    "start_time": "2025-01-19T23:18:27.072Z"
   },
   {
    "duration": 15,
    "start_time": "2025-01-19T23:18:45.777Z"
   },
   {
    "duration": 4,
    "start_time": "2025-01-19T23:18:51.053Z"
   },
   {
    "duration": 4,
    "start_time": "2025-01-19T23:29:22.027Z"
   },
   {
    "duration": 5,
    "start_time": "2025-01-19T23:29:23.458Z"
   },
   {
    "duration": 5,
    "start_time": "2025-01-19T23:30:40.883Z"
   },
   {
    "duration": 3,
    "start_time": "2025-01-19T23:31:07.218Z"
   },
   {
    "duration": 5,
    "start_time": "2025-01-19T23:38:34.654Z"
   },
   {
    "duration": 4,
    "start_time": "2025-01-19T23:39:06.345Z"
   },
   {
    "duration": 4,
    "start_time": "2025-01-19T23:39:13.044Z"
   },
   {
    "duration": 159,
    "start_time": "2025-01-19T23:41:33.615Z"
   },
   {
    "duration": 23,
    "start_time": "2025-01-19T23:42:57.149Z"
   },
   {
    "duration": 5,
    "start_time": "2025-01-19T23:45:19.539Z"
   },
   {
    "duration": 4,
    "start_time": "2025-01-19T23:45:54.229Z"
   },
   {
    "duration": 733,
    "start_time": "2025-01-19T23:46:54.247Z"
   },
   {
    "duration": 697,
    "start_time": "2025-01-19T23:49:13.960Z"
   },
   {
    "duration": 667,
    "start_time": "2025-01-19T23:49:57.576Z"
   },
   {
    "duration": 9,
    "start_time": "2025-01-19T23:58:53.075Z"
   },
   {
    "duration": 13,
    "start_time": "2025-01-20T00:01:30.905Z"
   },
   {
    "duration": 14,
    "start_time": "2025-01-20T00:02:25.121Z"
   },
   {
    "duration": 10,
    "start_time": "2025-01-20T00:03:44.703Z"
   },
   {
    "duration": 10,
    "start_time": "2025-01-20T00:15:09.462Z"
   },
   {
    "duration": 6,
    "start_time": "2025-01-20T00:18:51.386Z"
   },
   {
    "duration": 11,
    "start_time": "2025-01-20T00:26:21.240Z"
   },
   {
    "duration": 11,
    "start_time": "2025-01-20T00:28:39.877Z"
   },
   {
    "duration": 13,
    "start_time": "2025-01-20T00:29:36.190Z"
   },
   {
    "duration": 14,
    "start_time": "2025-01-20T00:31:27.690Z"
   },
   {
    "duration": 16,
    "start_time": "2025-01-20T00:32:01.685Z"
   },
   {
    "duration": 8,
    "start_time": "2025-01-20T00:32:25.631Z"
   },
   {
    "duration": 20,
    "start_time": "2025-01-20T00:35:49.487Z"
   },
   {
    "duration": 21,
    "start_time": "2025-01-20T00:38:07.387Z"
   },
   {
    "duration": 5,
    "start_time": "2025-01-20T00:39:14.619Z"
   },
   {
    "duration": 15,
    "start_time": "2025-01-20T00:43:19.561Z"
   },
   {
    "duration": 31,
    "start_time": "2025-01-20T00:45:29.309Z"
   },
   {
    "duration": 8,
    "start_time": "2025-01-20T00:50:40.633Z"
   },
   {
    "duration": 5,
    "start_time": "2025-01-20T00:59:07.162Z"
   },
   {
    "duration": 5,
    "start_time": "2025-01-20T01:01:06.523Z"
   },
   {
    "duration": 14,
    "start_time": "2025-01-20T01:02:26.769Z"
   },
   {
    "duration": 13,
    "start_time": "2025-01-20T01:06:57.152Z"
   },
   {
    "duration": 11,
    "start_time": "2025-01-20T01:11:53.298Z"
   },
   {
    "duration": 89,
    "start_time": "2025-01-20T01:14:02.920Z"
   },
   {
    "duration": 340,
    "start_time": "2025-01-20T01:15:27.022Z"
   },
   {
    "duration": 29,
    "start_time": "2025-01-20T01:27:10.957Z"
   },
   {
    "duration": 6,
    "start_time": "2025-01-20T01:33:22.487Z"
   },
   {
    "duration": 6,
    "start_time": "2025-01-20T01:37:52.871Z"
   },
   {
    "duration": 5,
    "start_time": "2025-01-20T01:38:58.372Z"
   },
   {
    "duration": 215,
    "start_time": "2025-01-20T01:48:22.232Z"
   },
   {
    "duration": 5,
    "start_time": "2025-01-20T01:54:33.223Z"
   },
   {
    "duration": 4,
    "start_time": "2025-01-20T01:54:51.965Z"
   },
   {
    "duration": 210,
    "start_time": "2025-01-20T01:55:11.887Z"
   },
   {
    "duration": 160,
    "start_time": "2025-01-20T02:03:14.549Z"
   },
   {
    "duration": 3,
    "start_time": "2025-01-20T02:16:23.061Z"
   },
   {
    "duration": 15,
    "start_time": "2025-01-20T02:16:26.510Z"
   },
   {
    "duration": 17,
    "start_time": "2025-01-20T02:16:29.030Z"
   },
   {
    "duration": 4,
    "start_time": "2025-01-20T02:18:23.713Z"
   },
   {
    "duration": 4,
    "start_time": "2025-01-20T02:20:05.129Z"
   },
   {
    "duration": 4,
    "start_time": "2025-01-20T02:20:24.501Z"
   },
   {
    "duration": 5,
    "start_time": "2025-01-20T02:20:51.325Z"
   },
   {
    "duration": 259,
    "start_time": "2025-01-20T02:21:08.631Z"
   },
   {
    "duration": 11,
    "start_time": "2025-01-20T02:21:59.394Z"
   },
   {
    "duration": 5,
    "start_time": "2025-01-20T02:22:03.186Z"
   },
   {
    "duration": 256,
    "start_time": "2025-01-20T02:22:05.484Z"
   },
   {
    "duration": 3,
    "start_time": "2025-01-20T02:22:10.187Z"
   },
   {
    "duration": 249,
    "start_time": "2025-01-20T02:22:34.822Z"
   },
   {
    "duration": 164,
    "start_time": "2025-01-20T02:22:54.284Z"
   },
   {
    "duration": 166,
    "start_time": "2025-01-20T02:22:57.617Z"
   },
   {
    "duration": 2,
    "start_time": "2025-01-20T02:24:21.229Z"
   },
   {
    "duration": 10,
    "start_time": "2025-01-20T02:24:23.308Z"
   },
   {
    "duration": 6,
    "start_time": "2025-01-20T02:24:24.797Z"
   },
   {
    "duration": 335,
    "start_time": "2025-01-20T02:24:26.737Z"
   },
   {
    "duration": 264,
    "start_time": "2025-01-20T02:32:40.769Z"
   },
   {
    "duration": 3,
    "start_time": "2025-01-20T02:32:42.556Z"
   },
   {
    "duration": 36,
    "start_time": "2025-01-20T02:33:07.610Z"
   },
   {
    "duration": 205,
    "start_time": "2025-01-20T02:33:09.083Z"
   },
   {
    "duration": 82,
    "start_time": "2025-01-20T02:39:42.274Z"
   },
   {
    "duration": 4,
    "start_time": "2025-01-20T02:39:44.650Z"
   },
   {
    "duration": 4,
    "start_time": "2025-01-20T02:39:46.025Z"
   },
   {
    "duration": 2,
    "start_time": "2025-01-20T02:47:13.292Z"
   },
   {
    "duration": 5,
    "start_time": "2025-01-20T02:47:19.088Z"
   },
   {
    "duration": 265,
    "start_time": "2025-01-20T02:47:36.132Z"
   },
   {
    "duration": 201,
    "start_time": "2025-01-20T02:47:38.832Z"
   },
   {
    "duration": 184,
    "start_time": "2025-01-20T03:00:45.324Z"
   },
   {
    "duration": 22,
    "start_time": "2025-01-20T03:00:46.644Z"
   },
   {
    "duration": 6,
    "start_time": "2025-01-20T03:00:48.366Z"
   },
   {
    "duration": 5,
    "start_time": "2025-01-20T03:00:49.480Z"
   },
   {
    "duration": 181,
    "start_time": "2025-01-20T03:06:34.537Z"
   },
   {
    "duration": 8,
    "start_time": "2025-01-20T03:06:36.356Z"
   },
   {
    "duration": 16,
    "start_time": "2025-01-20T03:06:43.916Z"
   },
   {
    "duration": 159,
    "start_time": "2025-01-20T03:11:57.012Z"
   },
   {
    "duration": 42,
    "start_time": "2025-01-20T03:14:02.385Z"
   },
   {
    "duration": 12,
    "start_time": "2025-01-20T03:14:04.004Z"
   },
   {
    "duration": 41,
    "start_time": "2025-01-20T03:17:17.005Z"
   },
   {
    "duration": 9875,
    "start_time": "2025-01-20T03:19:37.196Z"
   },
   {
    "duration": 9889,
    "start_time": "2025-01-20T03:20:01.118Z"
   },
   {
    "duration": 6,
    "start_time": "2025-01-20T03:20:12.871Z"
   },
   {
    "duration": 29,
    "start_time": "2025-01-20T03:23:20.779Z"
   },
   {
    "duration": 10,
    "start_time": "2025-01-20T03:23:22.369Z"
   },
   {
    "duration": 5,
    "start_time": "2025-01-20T03:23:23.696Z"
   },
   {
    "duration": 7,
    "start_time": "2025-01-20T14:09:22.276Z"
   }
  ],
  "colab": {
   "provenance": []
  },
  "kernelspec": {
   "display_name": "Python 3 (ipykernel)",
   "language": "python",
   "name": "python3"
  },
  "language_info": {
   "codemirror_mode": {
    "name": "ipython",
    "version": 3
   },
   "file_extension": ".py",
   "mimetype": "text/x-python",
   "name": "python",
   "nbconvert_exporter": "python",
   "pygments_lexer": "ipython3",
   "version": "3.9.19"
  },
  "toc": {
   "base_numbering": 1,
   "nav_menu": {},
   "number_sections": true,
   "sideBar": true,
   "skip_h1_title": true,
   "title_cell": "Table of Contents",
   "title_sidebar": "Contents",
   "toc_cell": false,
   "toc_position": {},
   "toc_section_display": true,
   "toc_window_display": false
  },
  "vscode": {
   "interpreter": {
    "hash": "01a7be9ec63e704a62cefc5fe7a4756944464ee731be31632bdf42a4cb4688cf"
   }
  }
 },
 "nbformat": 4,
 "nbformat_minor": 5
}
